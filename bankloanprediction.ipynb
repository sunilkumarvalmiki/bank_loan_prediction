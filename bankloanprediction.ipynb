{
 "cells": [
  {
   "cell_type": "code",
   "execution_count": 1,
   "metadata": {},
   "outputs": [
    {
     "name": "stdout",
     "output_type": "stream",
     "text": [
      "Requirement already satisfied: pandas in /home/ec2-user/anaconda3/envs/python3/lib/python3.6/site-packages (1.1.5)\n",
      "Requirement already satisfied: python-dateutil>=2.7.3 in /home/ec2-user/anaconda3/envs/python3/lib/python3.6/site-packages (from pandas) (2.8.1)\n",
      "Requirement already satisfied: pytz>=2017.2 in /home/ec2-user/anaconda3/envs/python3/lib/python3.6/site-packages (from pandas) (2021.1)\n",
      "Requirement already satisfied: numpy>=1.15.4 in /home/ec2-user/anaconda3/envs/python3/lib/python3.6/site-packages (from pandas) (1.19.5)\n",
      "Requirement already satisfied: six>=1.5 in /home/ec2-user/anaconda3/envs/python3/lib/python3.6/site-packages (from python-dateutil>=2.7.3->pandas) (1.15.0)\n",
      "Requirement already satisfied: numpy in /home/ec2-user/anaconda3/envs/python3/lib/python3.6/site-packages (1.19.5)\n",
      "Requirement already satisfied: seaborn in /home/ec2-user/anaconda3/envs/python3/lib/python3.6/site-packages (0.11.1)\n",
      "Requirement already satisfied: scipy>=1.0 in /home/ec2-user/anaconda3/envs/python3/lib/python3.6/site-packages (from seaborn) (1.5.3)\n",
      "Requirement already satisfied: numpy>=1.15 in /home/ec2-user/anaconda3/envs/python3/lib/python3.6/site-packages (from seaborn) (1.19.5)\n",
      "Requirement already satisfied: matplotlib>=2.2 in /home/ec2-user/anaconda3/envs/python3/lib/python3.6/site-packages (from seaborn) (3.3.4)\n",
      "Requirement already satisfied: pandas>=0.23 in /home/ec2-user/anaconda3/envs/python3/lib/python3.6/site-packages (from seaborn) (1.1.5)\n",
      "Requirement already satisfied: pyparsing!=2.0.4,!=2.1.2,!=2.1.6,>=2.0.3 in /home/ec2-user/anaconda3/envs/python3/lib/python3.6/site-packages (from matplotlib>=2.2->seaborn) (2.4.7)\n",
      "Requirement already satisfied: python-dateutil>=2.1 in /home/ec2-user/anaconda3/envs/python3/lib/python3.6/site-packages (from matplotlib>=2.2->seaborn) (2.8.1)\n",
      "Requirement already satisfied: pillow>=6.2.0 in /home/ec2-user/anaconda3/envs/python3/lib/python3.6/site-packages (from matplotlib>=2.2->seaborn) (7.2.0)\n",
      "Requirement already satisfied: kiwisolver>=1.0.1 in /home/ec2-user/anaconda3/envs/python3/lib/python3.6/site-packages (from matplotlib>=2.2->seaborn) (1.3.1)\n",
      "Requirement already satisfied: cycler>=0.10 in /home/ec2-user/anaconda3/envs/python3/lib/python3.6/site-packages (from matplotlib>=2.2->seaborn) (0.10.0)\n",
      "Requirement already satisfied: six in /home/ec2-user/anaconda3/envs/python3/lib/python3.6/site-packages (from cycler>=0.10->matplotlib>=2.2->seaborn) (1.15.0)\n",
      "Requirement already satisfied: pytz>=2017.2 in /home/ec2-user/anaconda3/envs/python3/lib/python3.6/site-packages (from pandas>=0.23->seaborn) (2021.1)\n",
      "Requirement already satisfied: matplotlib in /home/ec2-user/anaconda3/envs/python3/lib/python3.6/site-packages (3.3.4)\n",
      "Requirement already satisfied: kiwisolver>=1.0.1 in /home/ec2-user/anaconda3/envs/python3/lib/python3.6/site-packages (from matplotlib) (1.3.1)\n",
      "Requirement already satisfied: numpy>=1.15 in /home/ec2-user/anaconda3/envs/python3/lib/python3.6/site-packages (from matplotlib) (1.19.5)\n",
      "Requirement already satisfied: python-dateutil>=2.1 in /home/ec2-user/anaconda3/envs/python3/lib/python3.6/site-packages (from matplotlib) (2.8.1)\n",
      "Requirement already satisfied: pyparsing!=2.0.4,!=2.1.2,!=2.1.6,>=2.0.3 in /home/ec2-user/anaconda3/envs/python3/lib/python3.6/site-packages (from matplotlib) (2.4.7)\n",
      "Requirement already satisfied: pillow>=6.2.0 in /home/ec2-user/anaconda3/envs/python3/lib/python3.6/site-packages (from matplotlib) (7.2.0)\n",
      "Requirement already satisfied: cycler>=0.10 in /home/ec2-user/anaconda3/envs/python3/lib/python3.6/site-packages (from matplotlib) (0.10.0)\n",
      "Requirement already satisfied: six in /home/ec2-user/anaconda3/envs/python3/lib/python3.6/site-packages (from cycler>=0.10->matplotlib) (1.15.0)\n",
      "Requirement already satisfied: scikit-learn in /home/ec2-user/anaconda3/envs/python3/lib/python3.6/site-packages (0.24.1)\n",
      "Requirement already satisfied: scipy>=0.19.1 in /home/ec2-user/anaconda3/envs/python3/lib/python3.6/site-packages (from scikit-learn) (1.5.3)\n",
      "Requirement already satisfied: threadpoolctl>=2.0.0 in /home/ec2-user/anaconda3/envs/python3/lib/python3.6/site-packages (from scikit-learn) (2.1.0)\n",
      "Requirement already satisfied: joblib>=0.11 in /home/ec2-user/anaconda3/envs/python3/lib/python3.6/site-packages (from scikit-learn) (1.0.1)\n",
      "Requirement already satisfied: numpy>=1.13.3 in /home/ec2-user/anaconda3/envs/python3/lib/python3.6/site-packages (from scikit-learn) (1.19.5)\n"
     ]
    }
   ],
   "source": [
    "!pip install pandas\n",
    "!pip install numpy\n",
    "!pip install seaborn\n",
    "!pip install matplotlib\n",
    "!pip install scikit-learn"
   ]
  },
  {
   "cell_type": "code",
   "execution_count": 2,
   "metadata": {},
   "outputs": [
    {
     "name": "stdout",
     "output_type": "stream",
     "text": [
      "<class 'pandas.core.frame.DataFrame'>\n",
      "RangeIndex: 614 entries, 0 to 613\n",
      "Data columns (total 13 columns):\n",
      " #   Column             Non-Null Count  Dtype  \n",
      "---  ------             --------------  -----  \n",
      " 0   Loan_ID            614 non-null    object \n",
      " 1   Gender             601 non-null    object \n",
      " 2   Married            611 non-null    object \n",
      " 3   Dependents         599 non-null    object \n",
      " 4   Education          614 non-null    object \n",
      " 5   Self_Employed      582 non-null    object \n",
      " 6   ApplicantIncome    614 non-null    int64  \n",
      " 7   CoapplicantIncome  614 non-null    float64\n",
      " 8   LoanAmount         592 non-null    float64\n",
      " 9   Loan_Amount_Term   600 non-null    float64\n",
      " 10  Credit_History     564 non-null    float64\n",
      " 11  Property_Area      614 non-null    object \n",
      " 12  Loan_Status        614 non-null    object \n",
      "dtypes: float64(4), int64(1), object(8)\n",
      "memory usage: 62.5+ KB\n"
     ]
    }
   ],
   "source": [
    "import pandas as pd\n",
    "\n",
    "train_df = pd.read_csv('dataset1.csv')\n",
    "train_df.info()"
   ]
  },
  {
   "cell_type": "code",
   "execution_count": 3,
   "metadata": {
    "scrolled": true
   },
   "outputs": [
    {
     "name": "stdout",
     "output_type": "stream",
     "text": [
      "      Loan_ID Gender Married Dependents     Education Self_Employed  \\\n",
      "0    LP001015   Male     Yes          0      Graduate            No   \n",
      "1    LP001022   Male     Yes          1      Graduate            No   \n",
      "2    LP001031   Male     Yes          2      Graduate            No   \n",
      "3    LP001035   Male     Yes          2      Graduate            No   \n",
      "4    LP001051   Male      No          0  Not Graduate            No   \n",
      "..        ...    ...     ...        ...           ...           ...   \n",
      "362  LP002971   Male     Yes         3+  Not Graduate           Yes   \n",
      "363  LP002975   Male     Yes          0      Graduate            No   \n",
      "364  LP002980   Male      No          0      Graduate            No   \n",
      "365  LP002986   Male     Yes          0      Graduate            No   \n",
      "366  LP002989   Male      No          0      Graduate           Yes   \n",
      "\n",
      "     ApplicantIncome  CoapplicantIncome  LoanAmount  Loan_Amount_Term  \\\n",
      "0               5720                  0       110.0             360.0   \n",
      "1               3076               1500       126.0             360.0   \n",
      "2               5000               1800       208.0             360.0   \n",
      "3               2340               2546       100.0             360.0   \n",
      "4               3276                  0        78.0             360.0   \n",
      "..               ...                ...         ...               ...   \n",
      "362             4009               1777       113.0             360.0   \n",
      "363             4158                709       115.0             360.0   \n",
      "364             3250               1993       126.0             360.0   \n",
      "365             5000               2393       158.0             360.0   \n",
      "366             9200                  0        98.0             180.0   \n",
      "\n",
      "     Credit_History Property_Area  \n",
      "0               1.0         Urban  \n",
      "1               1.0         Urban  \n",
      "2               1.0         Urban  \n",
      "3               NaN         Urban  \n",
      "4               1.0         Urban  \n",
      "..              ...           ...  \n",
      "362             1.0         Urban  \n",
      "363             1.0         Urban  \n",
      "364             NaN     Semiurban  \n",
      "365             1.0         Rural  \n",
      "366             1.0         Rural  \n",
      "\n",
      "[367 rows x 12 columns]\n"
     ]
    }
   ],
   "source": [
    "import pandas as pd\n",
    "myFile=pd.read_csv('dataset.csv')\n",
    "print(myFile)"
   ]
  },
  {
   "cell_type": "code",
   "execution_count": 4,
   "metadata": {},
   "outputs": [],
   "source": [
    "import numpy as np # linear algebra\n",
    "import pandas as pd # data processing\n",
    "import warnings# warning filter\n"
   ]
  },
  {
   "cell_type": "code",
   "execution_count": 5,
   "metadata": {},
   "outputs": [],
   "source": [
    "import matplotlib.pyplot as plt \n",
    "import seaborn as sns\n"
   ]
  },
  {
   "cell_type": "code",
   "execution_count": 6,
   "metadata": {},
   "outputs": [],
   "source": [
    "from sklearn.preprocessing import LabelEncoder\n",
    "from sklearn.model_selection import train_test_split\n",
    "from sklearn.metrics import confusion_matrix\n",
    "from sklearn.metrics import classification_report\n",
    "from sklearn.metrics import accuracy_score\n"
   ]
  },
  {
   "cell_type": "code",
   "execution_count": 7,
   "metadata": {},
   "outputs": [],
   "source": [
    "\n",
    "from sklearn.tree import DecisionTreeClassifier\n",
    "from sklearn.ensemble import RandomForestClassifier\n",
    "from sklearn.linear_model import LogisticRegression"
   ]
  },
  {
   "cell_type": "code",
   "execution_count": 8,
   "metadata": {},
   "outputs": [],
   "source": [
    "sns.set(context='notebook', style='darkgrid', palette='deep', font='sans-serif', font_scale=1, color_codes=False, rc=None)\n"
   ]
  },
  {
   "cell_type": "code",
   "execution_count": 9,
   "metadata": {},
   "outputs": [],
   "source": [
    "warnings.filterwarnings(\"ignore\")"
   ]
  },
  {
   "cell_type": "code",
   "execution_count": 10,
   "metadata": {},
   "outputs": [
    {
     "name": "stdout",
     "output_type": "stream",
     "text": [
      "      Loan_ID  Gender Married Dependents     Education Self_Employed  \\\n",
      "0    LP001002    Male      No          0      Graduate            No   \n",
      "1    LP001003    Male     Yes          1      Graduate            No   \n",
      "2    LP001005    Male     Yes          0      Graduate           Yes   \n",
      "3    LP001006    Male     Yes          0  Not Graduate            No   \n",
      "4    LP001008    Male      No          0      Graduate            No   \n",
      "..        ...     ...     ...        ...           ...           ...   \n",
      "609  LP002978  Female      No          0      Graduate            No   \n",
      "610  LP002979    Male     Yes         3+      Graduate            No   \n",
      "611  LP002983    Male     Yes          1      Graduate            No   \n",
      "612  LP002984    Male     Yes          2      Graduate            No   \n",
      "613  LP002990  Female      No          0      Graduate           Yes   \n",
      "\n",
      "     ApplicantIncome  CoapplicantIncome  LoanAmount  Loan_Amount_Term  \\\n",
      "0               5849                0.0         NaN             360.0   \n",
      "1               4583             1508.0       128.0             360.0   \n",
      "2               3000                0.0        66.0             360.0   \n",
      "3               2583             2358.0       120.0             360.0   \n",
      "4               6000                0.0       141.0             360.0   \n",
      "..               ...                ...         ...               ...   \n",
      "609             2900                0.0        71.0             360.0   \n",
      "610             4106                0.0        40.0             180.0   \n",
      "611             8072              240.0       253.0             360.0   \n",
      "612             7583                0.0       187.0             360.0   \n",
      "613             4583                0.0       133.0             360.0   \n",
      "\n",
      "     Credit_History Property_Area Loan_Status  \n",
      "0               1.0         Urban           Y  \n",
      "1               1.0         Rural           N  \n",
      "2               1.0         Urban           Y  \n",
      "3               1.0         Urban           Y  \n",
      "4               1.0         Urban           Y  \n",
      "..              ...           ...         ...  \n",
      "609             1.0         Rural           Y  \n",
      "610             1.0         Rural           Y  \n",
      "611             1.0         Urban           Y  \n",
      "612             1.0         Urban           Y  \n",
      "613             0.0     Semiurban           N  \n",
      "\n",
      "[614 rows x 13 columns]\n"
     ]
    }
   ],
   "source": [
    "tr_df=pd.read_csv(\"dataset1.csv\")\n",
    "print(tr_df)\n"
   ]
  },
  {
   "cell_type": "code",
   "execution_count": 11,
   "metadata": {},
   "outputs": [
    {
     "name": "stdout",
     "output_type": "stream",
     "text": [
      "      Loan_ID Gender Married Dependents     Education Self_Employed  \\\n",
      "0    LP001015   Male     Yes          0      Graduate            No   \n",
      "1    LP001022   Male     Yes          1      Graduate            No   \n",
      "2    LP001031   Male     Yes          2      Graduate            No   \n",
      "3    LP001035   Male     Yes          2      Graduate            No   \n",
      "4    LP001051   Male      No          0  Not Graduate            No   \n",
      "..        ...    ...     ...        ...           ...           ...   \n",
      "362  LP002971   Male     Yes         3+  Not Graduate           Yes   \n",
      "363  LP002975   Male     Yes          0      Graduate            No   \n",
      "364  LP002980   Male      No          0      Graduate            No   \n",
      "365  LP002986   Male     Yes          0      Graduate            No   \n",
      "366  LP002989   Male      No          0      Graduate           Yes   \n",
      "\n",
      "     ApplicantIncome  CoapplicantIncome  LoanAmount  Loan_Amount_Term  \\\n",
      "0               5720                  0       110.0             360.0   \n",
      "1               3076               1500       126.0             360.0   \n",
      "2               5000               1800       208.0             360.0   \n",
      "3               2340               2546       100.0             360.0   \n",
      "4               3276                  0        78.0             360.0   \n",
      "..               ...                ...         ...               ...   \n",
      "362             4009               1777       113.0             360.0   \n",
      "363             4158                709       115.0             360.0   \n",
      "364             3250               1993       126.0             360.0   \n",
      "365             5000               2393       158.0             360.0   \n",
      "366             9200                  0        98.0             180.0   \n",
      "\n",
      "     Credit_History Property_Area  \n",
      "0               1.0         Urban  \n",
      "1               1.0         Urban  \n",
      "2               1.0         Urban  \n",
      "3               NaN         Urban  \n",
      "4               1.0         Urban  \n",
      "..              ...           ...  \n",
      "362             1.0         Urban  \n",
      "363             1.0         Urban  \n",
      "364             NaN     Semiurban  \n",
      "365             1.0         Rural  \n",
      "366             1.0         Rural  \n",
      "\n",
      "[367 rows x 12 columns]\n"
     ]
    }
   ],
   "source": [
    "te_df=pd.read_csv(\"dataset.csv\")\n",
    "print(te_df)\n"
   ]
  },
  {
   "cell_type": "code",
   "execution_count": 12,
   "metadata": {},
   "outputs": [
    {
     "name": "stdout",
     "output_type": "stream",
     "text": [
      "training set (row, col): (614, 13)\n",
      "\n",
      "testing set (row, col): (367, 12)\n"
     ]
    }
   ],
   "source": [
    "print(f\"training set (row, col): {tr_df.shape}\\n\\ntesting set (row, col): {te_df.shape}\")"
   ]
  },
  {
   "cell_type": "code",
   "execution_count": 13,
   "metadata": {
    "scrolled": true
   },
   "outputs": [
    {
     "name": "stdout",
     "output_type": "stream",
     "text": [
      "<class 'pandas.core.frame.DataFrame'>\n",
      "RangeIndex: 614 entries, 0 to 613\n",
      "Data columns (total 13 columns):\n",
      " #   Column             Non-Null Count  Dtype  \n",
      "---  ------             --------------  -----  \n",
      " 0   Loan_ID            614 non-null    object \n",
      " 1   Gender             601 non-null    object \n",
      " 2   Married            611 non-null    object \n",
      " 3   Dependents         599 non-null    object \n",
      " 4   Education          614 non-null    object \n",
      " 5   Self_Employed      582 non-null    object \n",
      " 6   ApplicantIncome    614 non-null    int64  \n",
      " 7   CoapplicantIncome  614 non-null    float64\n",
      " 8   LoanAmount         592 non-null    float64\n",
      " 9   Loan_Amount_Term   600 non-null    float64\n",
      " 10  Credit_History     564 non-null    float64\n",
      " 11  Property_Area      614 non-null    object \n",
      " 12  Loan_Status        614 non-null    object \n",
      "dtypes: float64(4), int64(1), object(8)\n",
      "memory usage: 62.5+ KB\n"
     ]
    }
   ],
   "source": [
    "tr_df.info(verbose=True, null_counts=True)"
   ]
  },
  {
   "cell_type": "code",
   "execution_count": 14,
   "metadata": {},
   "outputs": [
    {
     "data": {
      "text/html": [
       "<div>\n",
       "<style scoped>\n",
       "    .dataframe tbody tr th:only-of-type {\n",
       "        vertical-align: middle;\n",
       "    }\n",
       "\n",
       "    .dataframe tbody tr th {\n",
       "        vertical-align: top;\n",
       "    }\n",
       "\n",
       "    .dataframe thead th {\n",
       "        text-align: right;\n",
       "    }\n",
       "</style>\n",
       "<table border=\"1\" class=\"dataframe\">\n",
       "  <thead>\n",
       "    <tr style=\"text-align: right;\">\n",
       "      <th></th>\n",
       "      <th>ApplicantIncome</th>\n",
       "      <th>CoapplicantIncome</th>\n",
       "      <th>LoanAmount</th>\n",
       "      <th>Loan_Amount_Term</th>\n",
       "      <th>Credit_History</th>\n",
       "    </tr>\n",
       "  </thead>\n",
       "  <tbody>\n",
       "    <tr>\n",
       "      <th>count</th>\n",
       "      <td>614.000000</td>\n",
       "      <td>614.000000</td>\n",
       "      <td>592.000000</td>\n",
       "      <td>600.00000</td>\n",
       "      <td>564.000000</td>\n",
       "    </tr>\n",
       "    <tr>\n",
       "      <th>mean</th>\n",
       "      <td>5403.459283</td>\n",
       "      <td>1621.245798</td>\n",
       "      <td>146.412162</td>\n",
       "      <td>342.00000</td>\n",
       "      <td>0.842199</td>\n",
       "    </tr>\n",
       "    <tr>\n",
       "      <th>std</th>\n",
       "      <td>6109.041673</td>\n",
       "      <td>2926.248369</td>\n",
       "      <td>85.587325</td>\n",
       "      <td>65.12041</td>\n",
       "      <td>0.364878</td>\n",
       "    </tr>\n",
       "    <tr>\n",
       "      <th>min</th>\n",
       "      <td>150.000000</td>\n",
       "      <td>0.000000</td>\n",
       "      <td>9.000000</td>\n",
       "      <td>12.00000</td>\n",
       "      <td>0.000000</td>\n",
       "    </tr>\n",
       "    <tr>\n",
       "      <th>25%</th>\n",
       "      <td>2877.500000</td>\n",
       "      <td>0.000000</td>\n",
       "      <td>100.000000</td>\n",
       "      <td>360.00000</td>\n",
       "      <td>1.000000</td>\n",
       "    </tr>\n",
       "    <tr>\n",
       "      <th>50%</th>\n",
       "      <td>3812.500000</td>\n",
       "      <td>1188.500000</td>\n",
       "      <td>128.000000</td>\n",
       "      <td>360.00000</td>\n",
       "      <td>1.000000</td>\n",
       "    </tr>\n",
       "    <tr>\n",
       "      <th>75%</th>\n",
       "      <td>5795.000000</td>\n",
       "      <td>2297.250000</td>\n",
       "      <td>168.000000</td>\n",
       "      <td>360.00000</td>\n",
       "      <td>1.000000</td>\n",
       "    </tr>\n",
       "    <tr>\n",
       "      <th>max</th>\n",
       "      <td>81000.000000</td>\n",
       "      <td>41667.000000</td>\n",
       "      <td>700.000000</td>\n",
       "      <td>480.00000</td>\n",
       "      <td>1.000000</td>\n",
       "    </tr>\n",
       "  </tbody>\n",
       "</table>\n",
       "</div>"
      ],
      "text/plain": [
       "       ApplicantIncome  CoapplicantIncome  LoanAmount  Loan_Amount_Term  \\\n",
       "count       614.000000         614.000000  592.000000         600.00000   \n",
       "mean       5403.459283        1621.245798  146.412162         342.00000   \n",
       "std        6109.041673        2926.248369   85.587325          65.12041   \n",
       "min         150.000000           0.000000    9.000000          12.00000   \n",
       "25%        2877.500000           0.000000  100.000000         360.00000   \n",
       "50%        3812.500000        1188.500000  128.000000         360.00000   \n",
       "75%        5795.000000        2297.250000  168.000000         360.00000   \n",
       "max       81000.000000       41667.000000  700.000000         480.00000   \n",
       "\n",
       "       Credit_History  \n",
       "count      564.000000  \n",
       "mean         0.842199  \n",
       "std          0.364878  \n",
       "min          0.000000  \n",
       "25%          1.000000  \n",
       "50%          1.000000  \n",
       "75%          1.000000  \n",
       "max          1.000000  "
      ]
     },
     "execution_count": 14,
     "metadata": {},
     "output_type": "execute_result"
    }
   ],
   "source": [
    "tr_df.describe()"
   ]
  },
  {
   "cell_type": "code",
   "execution_count": 15,
   "metadata": {},
   "outputs": [
    {
     "name": "stdout",
     "output_type": "stream",
     "text": [
      "training set (row, col): (614, 12)\n",
      "\n",
      "testing set (row, col): (367, 11)\n"
     ]
    }
   ],
   "source": [
    "tr_df.drop('Loan_ID',axis=1,inplace=True)\n",
    "te_df.drop('Loan_ID',axis=1,inplace=True)\n",
    "print(f\"training set (row, col): {tr_df.shape}\\n\\ntesting set (row, col): {te_df.shape}\")\n"
   ]
  },
  {
   "cell_type": "code",
   "execution_count": 16,
   "metadata": {},
   "outputs": [
    {
     "data": {
      "text/plain": [
       "Credit_History       50\n",
       "Self_Employed        32\n",
       "LoanAmount           22\n",
       "Dependents           15\n",
       "Loan_Amount_Term     14\n",
       "Gender               13\n",
       "Married               3\n",
       "Loan_Status           0\n",
       "Property_Area         0\n",
       "CoapplicantIncome     0\n",
       "ApplicantIncome       0\n",
       "Education             0\n",
       "dtype: int64"
      ]
     },
     "execution_count": 16,
     "metadata": {},
     "output_type": "execute_result"
    }
   ],
   "source": [
    "tr_df.isnull().sum().sort_values(ascending=False)"
   ]
  },
  {
   "cell_type": "code",
   "execution_count": 17,
   "metadata": {},
   "outputs": [
    {
     "name": "stdout",
     "output_type": "stream",
     "text": [
      "Before filling missing values\n",
      "\n",
      " ################################################## \n",
      "\n"
     ]
    }
   ],
   "source": [
    "print(\"Before filling missing values\\n\\n\",\"#\"*50,\"\\n\")\n",
    "null_cols = ['Credit_History', 'Self_Employed', 'LoanAmount','Dependents', 'Loan_Amount_Term', 'Gender', 'Married']\n"
   ]
  },
  {
   "cell_type": "code",
   "execution_count": 18,
   "metadata": {},
   "outputs": [
    {
     "name": "stdout",
     "output_type": "stream",
     "text": [
      "Credit_History:\n",
      "1.0    475\n",
      "0.0     89\n",
      "Name: Credit_History, dtype: int64\n",
      " --------------------------------------------------\n",
      "Self_Employed:\n",
      "No     500\n",
      "Yes     82\n",
      "Name: Self_Employed, dtype: int64\n",
      " --------------------------------------------------\n",
      "LoanAmount:\n",
      "120.0    20\n",
      "110.0    17\n",
      "100.0    15\n",
      "187.0    12\n",
      "160.0    12\n",
      "         ..\n",
      "570.0     1\n",
      "300.0     1\n",
      "376.0     1\n",
      "117.0     1\n",
      "311.0     1\n",
      "Name: LoanAmount, Length: 203, dtype: int64\n",
      " --------------------------------------------------\n",
      "Dependents:\n",
      "0     345\n",
      "1     102\n",
      "2     101\n",
      "3+     51\n",
      "Name: Dependents, dtype: int64\n",
      " --------------------------------------------------\n",
      "Loan_Amount_Term:\n",
      "360.0    512\n",
      "180.0     44\n",
      "480.0     15\n",
      "300.0     13\n",
      "84.0       4\n",
      "240.0      4\n",
      "120.0      3\n",
      "36.0       2\n",
      "60.0       2\n",
      "12.0       1\n",
      "Name: Loan_Amount_Term, dtype: int64\n",
      " --------------------------------------------------\n",
      "Gender:\n",
      "Male      489\n",
      "Female    112\n",
      "Name: Gender, dtype: int64\n",
      " --------------------------------------------------\n",
      "Married:\n",
      "Yes    398\n",
      "No     213\n",
      "Name: Married, dtype: int64\n",
      " --------------------------------------------------\n"
     ]
    }
   ],
   "source": [
    "for col in null_cols:\n",
    "    print(f\"{col}:\\n{tr_df[col].value_counts()}\\n\",\"-\"*50)\n",
    "    tr_df[col] = tr_df[col].fillna(\n",
    "    tr_df[col].dropna().mode().values[0] )   "
   ]
  },
  {
   "cell_type": "code",
   "execution_count": 19,
   "metadata": {},
   "outputs": [
    {
     "name": "stdout",
     "output_type": "stream",
     "text": [
      "After filling missing values\n",
      "\n",
      " ################################################## \n",
      "\n",
      "\n",
      "Credit_History:\n",
      "1.0    525\n",
      "0.0     89\n",
      "Name: Credit_History, dtype: int64\n",
      " --------------------------------------------------\n",
      "\n",
      "Self_Employed:\n",
      "No     532\n",
      "Yes     82\n",
      "Name: Self_Employed, dtype: int64\n",
      " --------------------------------------------------\n",
      "\n",
      "LoanAmount:\n",
      "120.0    42\n",
      "110.0    17\n",
      "100.0    15\n",
      "187.0    12\n",
      "160.0    12\n",
      "         ..\n",
      "570.0     1\n",
      "300.0     1\n",
      "376.0     1\n",
      "117.0     1\n",
      "311.0     1\n",
      "Name: LoanAmount, Length: 203, dtype: int64\n",
      " --------------------------------------------------\n",
      "\n",
      "Dependents:\n",
      "0     360\n",
      "1     102\n",
      "2     101\n",
      "3+     51\n",
      "Name: Dependents, dtype: int64\n",
      " --------------------------------------------------\n",
      "\n",
      "Loan_Amount_Term:\n",
      "360.0    526\n",
      "180.0     44\n",
      "480.0     15\n",
      "300.0     13\n",
      "84.0       4\n",
      "240.0      4\n",
      "120.0      3\n",
      "36.0       2\n",
      "60.0       2\n",
      "12.0       1\n",
      "Name: Loan_Amount_Term, dtype: int64\n",
      " --------------------------------------------------\n",
      "\n",
      "Gender:\n",
      "Male      502\n",
      "Female    112\n",
      "Name: Gender, dtype: int64\n",
      " --------------------------------------------------\n",
      "\n",
      "Married:\n",
      "Yes    401\n",
      "No     213\n",
      "Name: Married, dtype: int64\n",
      " --------------------------------------------------\n"
     ]
    }
   ],
   "source": [
    "tr_df.isnull().sum().sort_values(ascending=False)\n",
    "print(\"After filling missing values\\n\\n\",\"#\"*50,\"\\n\")\n",
    "for col in null_cols:\n",
    "    print(f\"\\n{col}:\\n{tr_df[col].value_counts()}\\n\",\"-\"*50)"
   ]
  },
  {
   "cell_type": "code",
   "execution_count": 20,
   "metadata": {},
   "outputs": [],
   "source": [
    "num = tr_df.select_dtypes('number').columns.to_list()\n",
    "cat = tr_df.select_dtypes('object').columns.to_list()"
   ]
  },
  {
   "cell_type": "code",
   "execution_count": 21,
   "metadata": {},
   "outputs": [],
   "source": [
    "loan_num =  tr_df[num]"
   ]
  },
  {
   "cell_type": "code",
   "execution_count": 22,
   "metadata": {},
   "outputs": [],
   "source": [
    "loan_cat = tr_df[cat]"
   ]
  },
  {
   "cell_type": "code",
   "execution_count": 23,
   "metadata": {},
   "outputs": [
    {
     "data": {
      "image/png": "[encoded data removed]",
      "text/plain": [
       "<Figure size 576x720 with 1 Axes>"
      ]
     },
     "metadata": {},
     "output_type": "display_data"
    }
   ],
   "source": [
    "total = float(len(tr_df[cat[-1]]))\n",
    "plt.figure(figsize=(8,10))\n",
    "sns.set(style=\"whitegrid\")\n",
    "ax = sns.countplot(tr_df[cat[-1]])\n",
    "for p in ax.patches:\n",
    "    height = p.get_height()\n",
    "    ax.text(p.get_x()+p.get_width()/2.,height + 3,'{:1.2f}'.format(height/total),ha=\"center\") \n",
    "plt.show()"
   ]
  },
  {
   "cell_type": "code",
   "execution_count": 24,
   "metadata": {},
   "outputs": [
    {
     "data": {
      "image/png": "[encoded data removed]",
      "text/plain": [
       "<Figure size 432x288 with 1 Axes>"
      ]
     },
     "metadata": {},
     "output_type": "display_data"
    },
    {
     "data": {
      "image/png": "[encoded data removed]",
      "text/plain": [
       "<Figure size 432x288 with 1 Axes>"
      ]
     },
     "metadata": {},
     "output_type": "display_data"
    },
    {
     "data": {
      "image/png": "[encoded data removed]",
      "text/plain": [
       "<Figure size 432x288 with 1 Axes>"
      ]
     },
     "metadata": {},
     "output_type": "display_data"
    },
    {
     "data": {
      "image/png": "[encoded data removed]",
      "text/plain": [
       "<Figure size 432x288 with 1 Axes>"
      ]
     },
     "metadata": {},
     "output_type": "display_data"
    },
    {
     "data": {
      "image/png": "[encoded data removed]",
      "text/plain": [
       "<Figure size 432x288 with 1 Axes>"
      ]
     },
     "metadata": {},
     "output_type": "display_data"
    }
   ],
   "source": [
    "for i in loan_num:\n",
    "    plt.hist(loan_num[i])\n",
    "    plt.title(i)\n",
    "    plt.show()\n"
   ]
  },
  {
   "cell_type": "code",
   "execution_count": 25,
   "metadata": {},
   "outputs": [
    {
     "data": {
      "image/png": "[encoded data removed]",
      "text/plain": [
       "<Figure size 1080x720 with 1 Axes>"
      ]
     },
     "metadata": {},
     "output_type": "display_data"
    },
    {
     "data": {
      "image/png": "[encoded data removed]",
      "text/plain": [
       "<Figure size 1080x720 with 1 Axes>"
      ]
     },
     "metadata": {},
     "output_type": "display_data"
    },
    {
     "data": {
      "image/png": "[encoded data removed]",
      "text/plain": [
       "<Figure size 1080x720 with 1 Axes>"
      ]
     },
     "metadata": {},
     "output_type": "display_data"
    },
    {
     "data": {
      "image/png": "[encoded data removed]",
      "text/plain": [
       "<Figure size 1080x720 with 1 Axes>"
      ]
     },
     "metadata": {},
     "output_type": "display_data"
    },
    {
     "data": {
      "image/png": "[encoded data removed]",
      "text/plain": [
       "<Figure size 1080x720 with 1 Axes>"
      ]
     },
     "metadata": {},
     "output_type": "display_data"
    },
    {
     "data": {
      "image/png": "[encoded data removed]",
      "text/plain": [
       "<Figure size 1080x720 with 1 Axes>"
      ]
     },
     "metadata": {},
     "output_type": "display_data"
    }
   ],
   "source": [
    "for i in cat[:-1]: \n",
    "    plt.figure(figsize=(15,10))\n",
    "    plt.subplot(2,3,1)\n",
    "    sns.countplot(x=i ,hue='Loan_Status', data=tr_df ,palette='plasma')\n",
    "    plt.xlabel(i, fontsize=14)\n"
   ]
  },
  {
   "cell_type": "code",
   "execution_count": 26,
   "metadata": {},
   "outputs": [
    {
     "data": {
      "text/plain": [
       "<AxesSubplot:>"
      ]
     },
     "execution_count": 26,
     "metadata": {},
     "output_type": "execute_result"
    },
    {
     "data": {
      "image/png": "[encoded data removed]",
      "text/plain": [
       "<Figure size 432x288 with 2 Axes>"
      ]
     },
     "metadata": {},
     "output_type": "display_data"
    }
   ],
   "source": [
    "sns.heatmap(tr_df.corr() ,cmap='cubehelix_r')"
   ]
  },
  {
   "cell_type": "code",
   "execution_count": 27,
   "metadata": {},
   "outputs": [],
   "source": [
    "to_numeric = {'Male': 1, 'Female': 2,\n",
    "'Yes': 1, 'No': 2,\n",
    "'Graduate': 1, 'Not Graduate': 2,\n",
    "'Urban': 3, 'Semiurban': 2,'Rural': 1,\n",
    "'Y': 1, 'N': 0,\n",
    "'3+': 3}"
   ]
  },
  {
   "cell_type": "code",
   "execution_count": 28,
   "metadata": {},
   "outputs": [],
   "source": [
    "tr_df = tr_df.applymap(lambda lable: to_numeric.get(lable) if lable in to_numeric else lable)\n",
    "te_df = te_df.applymap(lambda lable: to_numeric.get(lable) if lable in to_numeric else lable)\n"
   ]
  },
  {
   "cell_type": "code",
   "execution_count": 29,
   "metadata": {},
   "outputs": [],
   "source": [
    "Dependents_ = pd.to_numeric(tr_df.Dependents)\n",
    "Dependents__ = pd.to_numeric(te_df.Dependents)"
   ]
  },
  {
   "cell_type": "code",
   "execution_count": 30,
   "metadata": {},
   "outputs": [],
   "source": [
    "tr_df.drop(['Dependents'], axis = 1, inplace = True)\n",
    "te_df.drop(['Dependents'], axis = 1, inplace = True)"
   ]
  },
  {
   "cell_type": "code",
   "execution_count": 31,
   "metadata": {},
   "outputs": [],
   "source": [
    "tr_df = pd.concat([tr_df, Dependents_], axis = 1)\n",
    "te_df = pd.concat([te_df, Dependents__], axis = 1)"
   ]
  },
  {
   "cell_type": "code",
   "execution_count": 32,
   "metadata": {},
   "outputs": [
    {
     "name": "stdout",
     "output_type": "stream",
     "text": [
      "training set (row, col): (614, 12)\n",
      "\n",
      "testing set (row, col): (367, 11)\n",
      "\n",
      "<class 'pandas.core.frame.DataFrame'>\n",
      "RangeIndex: 614 entries, 0 to 613\n",
      "Data columns (total 12 columns):\n",
      " #   Column             Non-Null Count  Dtype  \n",
      "---  ------             --------------  -----  \n",
      " 0   Gender             614 non-null    int64  \n",
      " 1   Married            614 non-null    int64  \n",
      " 2   Education          614 non-null    int64  \n",
      " 3   Self_Employed      614 non-null    int64  \n",
      " 4   ApplicantIncome    614 non-null    int64  \n",
      " 5   CoapplicantIncome  614 non-null    float64\n",
      " 6   LoanAmount         614 non-null    float64\n",
      " 7   Loan_Amount_Term   614 non-null    float64\n",
      " 8   Credit_History     614 non-null    float64\n",
      " 9   Property_Area      614 non-null    int64  \n",
      " 10  Loan_Status        614 non-null    int64  \n",
      " 11  Dependents         614 non-null    int64  \n",
      "dtypes: float64(4), int64(8)\n",
      "memory usage: 57.7 KB\n",
      "<class 'pandas.core.frame.DataFrame'>\n",
      "RangeIndex: 367 entries, 0 to 366\n",
      "Data columns (total 11 columns):\n",
      " #   Column             Non-Null Count  Dtype  \n",
      "---  ------             --------------  -----  \n",
      " 0   Gender             356 non-null    float64\n",
      " 1   Married            367 non-null    int64  \n",
      " 2   Education          367 non-null    int64  \n",
      " 3   Self_Employed      344 non-null    float64\n",
      " 4   ApplicantIncome    367 non-null    int64  \n",
      " 5   CoapplicantIncome  367 non-null    int64  \n",
      " 6   LoanAmount         362 non-null    float64\n",
      " 7   Loan_Amount_Term   361 non-null    float64\n",
      " 8   Credit_History     338 non-null    float64\n",
      " 9   Property_Area      367 non-null    int64  \n",
      " 10  Dependents         357 non-null    float64\n",
      "dtypes: float64(6), int64(5)\n",
      "memory usage: 31.7 KB\n",
      "None \n",
      "\n",
      " None\n"
     ]
    }
   ],
   "source": [
    "print(f\"training set (row, col): {tr_df.shape}\\n\\ntesting set (row, col): {te_df.shape}\\n\")\n",
    "print(tr_df.info(), \"\\n\\n\", te_df.info())"
   ]
  },
  {
   "cell_type": "code",
   "execution_count": 33,
   "metadata": {},
   "outputs": [
    {
     "data": {
      "text/plain": [
       "<AxesSubplot:>"
      ]
     },
     "execution_count": 33,
     "metadata": {},
     "output_type": "execute_result"
    },
    {
     "data": {
      "image/png": "[encoded data removed]",
      "text/plain": [
       "<Figure size 432x288 with 2 Axes>"
      ]
     },
     "metadata": {},
     "output_type": "display_data"
    }
   ],
   "source": [
    "sns.heatmap(tr_df.corr() ,cmap='cubehelix_r')"
   ]
  },
  {
   "cell_type": "code",
   "execution_count": 34,
   "metadata": {},
   "outputs": [
    {
     "data": {
      "text/html": [
       "<style  type=\"text/css\" >\n",
       "#T_e6fa5ef4_a9c5_11eb_a903_16e2d80e0fdfrow0_col0,#T_e6fa5ef4_a9c5_11eb_a903_16e2d80e0fdfrow1_col1,#T_e6fa5ef4_a9c5_11eb_a903_16e2d80e0fdfrow2_col2,#T_e6fa5ef4_a9c5_11eb_a903_16e2d80e0fdfrow3_col3,#T_e6fa5ef4_a9c5_11eb_a903_16e2d80e0fdfrow4_col4,#T_e6fa5ef4_a9c5_11eb_a903_16e2d80e0fdfrow5_col5,#T_e6fa5ef4_a9c5_11eb_a903_16e2d80e0fdfrow6_col6,#T_e6fa5ef4_a9c5_11eb_a903_16e2d80e0fdfrow7_col7,#T_e6fa5ef4_a9c5_11eb_a903_16e2d80e0fdfrow8_col8,#T_e6fa5ef4_a9c5_11eb_a903_16e2d80e0fdfrow9_col9,#T_e6fa5ef4_a9c5_11eb_a903_16e2d80e0fdfrow10_col10,#T_e6fa5ef4_a9c5_11eb_a903_16e2d80e0fdfrow11_col11{\n",
       "            background-color:  #b40426;\n",
       "            color:  #f1f1f1;\n",
       "        }#T_e6fa5ef4_a9c5_11eb_a903_16e2d80e0fdfrow0_col1{\n",
       "            background-color:  #e3d9d3;\n",
       "            color:  #000000;\n",
       "        }#T_e6fa5ef4_a9c5_11eb_a903_16e2d80e0fdfrow0_col2,#T_e6fa5ef4_a9c5_11eb_a903_16e2d80e0fdfrow2_col0,#T_e6fa5ef4_a9c5_11eb_a903_16e2d80e0fdfrow8_col4{\n",
       "            background-color:  #5b7ae5;\n",
       "            color:  #000000;\n",
       "        }#T_e6fa5ef4_a9c5_11eb_a903_16e2d80e0fdfrow0_col3,#T_e6fa5ef4_a9c5_11eb_a903_16e2d80e0fdfrow9_col10{\n",
       "            background-color:  #5d7ce6;\n",
       "            color:  #000000;\n",
       "        }#T_e6fa5ef4_a9c5_11eb_a903_16e2d80e0fdfrow0_col4,#T_e6fa5ef4_a9c5_11eb_a903_16e2d80e0fdfrow8_col9,#T_e6fa5ef4_a9c5_11eb_a903_16e2d80e0fdfrow9_col8,#T_e6fa5ef4_a9c5_11eb_a903_16e2d80e0fdfrow10_col2,#T_e6fa5ef4_a9c5_11eb_a903_16e2d80e0fdfrow10_col7,#T_e6fa5ef4_a9c5_11eb_a903_16e2d80e0fdfrow11_col9{\n",
       "            background-color:  #506bda;\n",
       "            color:  #000000;\n",
       "        }#T_e6fa5ef4_a9c5_11eb_a903_16e2d80e0fdfrow0_col5,#T_e6fa5ef4_a9c5_11eb_a903_16e2d80e0fdfrow5_col10,#T_e6fa5ef4_a9c5_11eb_a903_16e2d80e0fdfrow11_col8{\n",
       "            background-color:  #4358cb;\n",
       "            color:  #f1f1f1;\n",
       "        }#T_e6fa5ef4_a9c5_11eb_a903_16e2d80e0fdfrow0_col6,#T_e6fa5ef4_a9c5_11eb_a903_16e2d80e0fdfrow4_col7,#T_e6fa5ef4_a9c5_11eb_a903_16e2d80e0fdfrow4_col8,#T_e6fa5ef4_a9c5_11eb_a903_16e2d80e0fdfrow6_col10,#T_e6fa5ef4_a9c5_11eb_a903_16e2d80e0fdfrow7_col5,#T_e6fa5ef4_a9c5_11eb_a903_16e2d80e0fdfrow10_col5{\n",
       "            background-color:  #4a63d3;\n",
       "            color:  #f1f1f1;\n",
       "        }#T_e6fa5ef4_a9c5_11eb_a903_16e2d80e0fdfrow0_col7{\n",
       "            background-color:  #6e90f2;\n",
       "            color:  #000000;\n",
       "        }#T_e6fa5ef4_a9c5_11eb_a903_16e2d80e0fdfrow0_col8,#T_e6fa5ef4_a9c5_11eb_a903_16e2d80e0fdfrow4_col9,#T_e6fa5ef4_a9c5_11eb_a903_16e2d80e0fdfrow11_col3{\n",
       "            background-color:  #4c66d6;\n",
       "            color:  #000000;\n",
       "        }#T_e6fa5ef4_a9c5_11eb_a903_16e2d80e0fdfrow0_col9,#T_e6fa5ef4_a9c5_11eb_a903_16e2d80e0fdfrow4_col0{\n",
       "            background-color:  #5875e1;\n",
       "            color:  #000000;\n",
       "        }#T_e6fa5ef4_a9c5_11eb_a903_16e2d80e0fdfrow0_col10,#T_e6fa5ef4_a9c5_11eb_a903_16e2d80e0fdfrow1_col9,#T_e6fa5ef4_a9c5_11eb_a903_16e2d80e0fdfrow3_col8,#T_e6fa5ef4_a9c5_11eb_a903_16e2d80e0fdfrow6_col8{\n",
       "            background-color:  #4f69d9;\n",
       "            color:  #000000;\n",
       "        }#T_e6fa5ef4_a9c5_11eb_a903_16e2d80e0fdfrow0_col11,#T_e6fa5ef4_a9c5_11eb_a903_16e2d80e0fdfrow3_col5,#T_e6fa5ef4_a9c5_11eb_a903_16e2d80e0fdfrow10_col4,#T_e6fa5ef4_a9c5_11eb_a903_16e2d80e0fdfrow10_col6{\n",
       "            background-color:  #5f7fe8;\n",
       "            color:  #000000;\n",
       "        }#T_e6fa5ef4_a9c5_11eb_a903_16e2d80e0fdfrow1_col0{\n",
       "            background-color:  #d2dbe8;\n",
       "            color:  #000000;\n",
       "        }#T_e6fa5ef4_a9c5_11eb_a903_16e2d80e0fdfrow1_col2{\n",
       "            background-color:  #6485ec;\n",
       "            color:  #000000;\n",
       "        }#T_e6fa5ef4_a9c5_11eb_a903_16e2d80e0fdfrow1_col3,#T_e6fa5ef4_a9c5_11eb_a903_16e2d80e0fdfrow8_col3,#T_e6fa5ef4_a9c5_11eb_a903_16e2d80e0fdfrow8_col5,#T_e6fa5ef4_a9c5_11eb_a903_16e2d80e0fdfrow9_col4,#T_e6fa5ef4_a9c5_11eb_a903_16e2d80e0fdfrow9_col5,#T_e6fa5ef4_a9c5_11eb_a903_16e2d80e0fdfrow10_col3{\n",
       "            background-color:  #5e7de7;\n",
       "            color:  #000000;\n",
       "        }#T_e6fa5ef4_a9c5_11eb_a903_16e2d80e0fdfrow1_col4,#T_e6fa5ef4_a9c5_11eb_a903_16e2d80e0fdfrow5_col0{\n",
       "            background-color:  #516ddb;\n",
       "            color:  #000000;\n",
       "        }#T_e6fa5ef4_a9c5_11eb_a903_16e2d80e0fdfrow1_col5{\n",
       "            background-color:  #455cce;\n",
       "            color:  #f1f1f1;\n",
       "        }#T_e6fa5ef4_a9c5_11eb_a903_16e2d80e0fdfrow1_col6,#T_e6fa5ef4_a9c5_11eb_a903_16e2d80e0fdfrow5_col4{\n",
       "            background-color:  #4055c8;\n",
       "            color:  #f1f1f1;\n",
       "        }#T_e6fa5ef4_a9c5_11eb_a903_16e2d80e0fdfrow1_col7{\n",
       "            background-color:  #7699f6;\n",
       "            color:  #000000;\n",
       "        }#T_e6fa5ef4_a9c5_11eb_a903_16e2d80e0fdfrow1_col8,#T_e6fa5ef4_a9c5_11eb_a903_16e2d80e0fdfrow6_col0{\n",
       "            background-color:  #4b64d5;\n",
       "            color:  #f1f1f1;\n",
       "        }#T_e6fa5ef4_a9c5_11eb_a903_16e2d80e0fdfrow1_col10,#T_e6fa5ef4_a9c5_11eb_a903_16e2d80e0fdfrow1_col11,#T_e6fa5ef4_a9c5_11eb_a903_16e2d80e0fdfrow2_col4,#T_e6fa5ef4_a9c5_11eb_a903_16e2d80e0fdfrow2_col6,#T_e6fa5ef4_a9c5_11eb_a903_16e2d80e0fdfrow2_col8,#T_e6fa5ef4_a9c5_11eb_a903_16e2d80e0fdfrow4_col3,#T_e6fa5ef4_a9c5_11eb_a903_16e2d80e0fdfrow4_col5,#T_e6fa5ef4_a9c5_11eb_a903_16e2d80e0fdfrow6_col2,#T_e6fa5ef4_a9c5_11eb_a903_16e2d80e0fdfrow7_col9,#T_e6fa5ef4_a9c5_11eb_a903_16e2d80e0fdfrow11_col0,#T_e6fa5ef4_a9c5_11eb_a903_16e2d80e0fdfrow11_col1,#T_e6fa5ef4_a9c5_11eb_a903_16e2d80e0fdfrow11_col7{\n",
       "            background-color:  #3b4cc0;\n",
       "            color:  #f1f1f1;\n",
       "        }#T_e6fa5ef4_a9c5_11eb_a903_16e2d80e0fdfrow2_col1{\n",
       "            background-color:  #89acfd;\n",
       "            color:  #000000;\n",
       "        }#T_e6fa5ef4_a9c5_11eb_a903_16e2d80e0fdfrow2_col3,#T_e6fa5ef4_a9c5_11eb_a903_16e2d80e0fdfrow3_col7{\n",
       "            background-color:  #6180e9;\n",
       "            color:  #000000;\n",
       "        }#T_e6fa5ef4_a9c5_11eb_a903_16e2d80e0fdfrow2_col5{\n",
       "            background-color:  #4961d2;\n",
       "            color:  #f1f1f1;\n",
       "        }#T_e6fa5ef4_a9c5_11eb_a903_16e2d80e0fdfrow2_col7,#T_e6fa5ef4_a9c5_11eb_a903_16e2d80e0fdfrow4_col2,#T_e6fa5ef4_a9c5_11eb_a903_16e2d80e0fdfrow6_col9,#T_e6fa5ef4_a9c5_11eb_a903_16e2d80e0fdfrow9_col7{\n",
       "            background-color:  #4257c9;\n",
       "            color:  #f1f1f1;\n",
       "        }#T_e6fa5ef4_a9c5_11eb_a903_16e2d80e0fdfrow2_col9,#T_e6fa5ef4_a9c5_11eb_a903_16e2d80e0fdfrow6_col3{\n",
       "            background-color:  #3d50c3;\n",
       "            color:  #f1f1f1;\n",
       "        }#T_e6fa5ef4_a9c5_11eb_a903_16e2d80e0fdfrow2_col10{\n",
       "            background-color:  #3c4ec2;\n",
       "            color:  #f1f1f1;\n",
       "        }#T_e6fa5ef4_a9c5_11eb_a903_16e2d80e0fdfrow2_col11{\n",
       "            background-color:  #9bbcff;\n",
       "            color:  #000000;\n",
       "        }#T_e6fa5ef4_a9c5_11eb_a903_16e2d80e0fdfrow3_col0,#T_e6fa5ef4_a9c5_11eb_a903_16e2d80e0fdfrow8_col6{\n",
       "            background-color:  #688aef;\n",
       "            color:  #000000;\n",
       "        }#T_e6fa5ef4_a9c5_11eb_a903_16e2d80e0fdfrow3_col1,#T_e6fa5ef4_a9c5_11eb_a903_16e2d80e0fdfrow9_col11{\n",
       "            background-color:  #8db0fe;\n",
       "            color:  #000000;\n",
       "        }#T_e6fa5ef4_a9c5_11eb_a903_16e2d80e0fdfrow3_col2{\n",
       "            background-color:  #6b8df0;\n",
       "            color:  #000000;\n",
       "        }#T_e6fa5ef4_a9c5_11eb_a903_16e2d80e0fdfrow3_col4{\n",
       "            background-color:  #3e51c5;\n",
       "            color:  #f1f1f1;\n",
       "        }#T_e6fa5ef4_a9c5_11eb_a903_16e2d80e0fdfrow3_col6{\n",
       "            background-color:  #485fd1;\n",
       "            color:  #f1f1f1;\n",
       "        }#T_e6fa5ef4_a9c5_11eb_a903_16e2d80e0fdfrow3_col9,#T_e6fa5ef4_a9c5_11eb_a903_16e2d80e0fdfrow10_col9{\n",
       "            background-color:  #5977e3;\n",
       "            color:  #000000;\n",
       "        }#T_e6fa5ef4_a9c5_11eb_a903_16e2d80e0fdfrow3_col10,#T_e6fa5ef4_a9c5_11eb_a903_16e2d80e0fdfrow8_col7,#T_e6fa5ef4_a9c5_11eb_a903_16e2d80e0fdfrow9_col2{\n",
       "            background-color:  #5572df;\n",
       "            color:  #000000;\n",
       "        }#T_e6fa5ef4_a9c5_11eb_a903_16e2d80e0fdfrow3_col11,#T_e6fa5ef4_a9c5_11eb_a903_16e2d80e0fdfrow7_col0{\n",
       "            background-color:  #7ea1fa;\n",
       "            color:  #000000;\n",
       "        }#T_e6fa5ef4_a9c5_11eb_a903_16e2d80e0fdfrow4_col1{\n",
       "            background-color:  #80a3fa;\n",
       "            color:  #000000;\n",
       "        }#T_e6fa5ef4_a9c5_11eb_a903_16e2d80e0fdfrow4_col6{\n",
       "            background-color:  #f5c4ac;\n",
       "            color:  #000000;\n",
       "        }#T_e6fa5ef4_a9c5_11eb_a903_16e2d80e0fdfrow4_col10,#T_e6fa5ef4_a9c5_11eb_a903_16e2d80e0fdfrow5_col8,#T_e6fa5ef4_a9c5_11eb_a903_16e2d80e0fdfrow5_col9,#T_e6fa5ef4_a9c5_11eb_a903_16e2d80e0fdfrow7_col2,#T_e6fa5ef4_a9c5_11eb_a903_16e2d80e0fdfrow8_col2{\n",
       "            background-color:  #536edd;\n",
       "            color:  #000000;\n",
       "        }#T_e6fa5ef4_a9c5_11eb_a903_16e2d80e0fdfrow4_col11{\n",
       "            background-color:  #abc8fd;\n",
       "            color:  #000000;\n",
       "        }#T_e6fa5ef4_a9c5_11eb_a903_16e2d80e0fdfrow5_col1,#T_e6fa5ef4_a9c5_11eb_a903_16e2d80e0fdfrow11_col2{\n",
       "            background-color:  #799cf8;\n",
       "            color:  #000000;\n",
       "        }#T_e6fa5ef4_a9c5_11eb_a903_16e2d80e0fdfrow5_col2,#T_e6fa5ef4_a9c5_11eb_a903_16e2d80e0fdfrow11_col10{\n",
       "            background-color:  #5673e0;\n",
       "            color:  #000000;\n",
       "        }#T_e6fa5ef4_a9c5_11eb_a903_16e2d80e0fdfrow5_col3,#T_e6fa5ef4_a9c5_11eb_a903_16e2d80e0fdfrow6_col7{\n",
       "            background-color:  #6282ea;\n",
       "            color:  #000000;\n",
       "        }#T_e6fa5ef4_a9c5_11eb_a903_16e2d80e0fdfrow5_col6{\n",
       "            background-color:  #a1c0ff;\n",
       "            color:  #000000;\n",
       "        }#T_e6fa5ef4_a9c5_11eb_a903_16e2d80e0fdfrow5_col7{\n",
       "            background-color:  #465ecf;\n",
       "            color:  #f1f1f1;\n",
       "        }#T_e6fa5ef4_a9c5_11eb_a903_16e2d80e0fdfrow5_col11{\n",
       "            background-color:  #94b6ff;\n",
       "            color:  #000000;\n",
       "        }#T_e6fa5ef4_a9c5_11eb_a903_16e2d80e0fdfrow6_col1,#T_e6fa5ef4_a9c5_11eb_a903_16e2d80e0fdfrow7_col3{\n",
       "            background-color:  #6788ee;\n",
       "            color:  #000000;\n",
       "        }#T_e6fa5ef4_a9c5_11eb_a903_16e2d80e0fdfrow6_col4{\n",
       "            background-color:  #f4c6af;\n",
       "            color:  #000000;\n",
       "        }#T_e6fa5ef4_a9c5_11eb_a903_16e2d80e0fdfrow6_col5{\n",
       "            background-color:  #96b7ff;\n",
       "            color:  #000000;\n",
       "        }#T_e6fa5ef4_a9c5_11eb_a903_16e2d80e0fdfrow6_col11{\n",
       "            background-color:  #b7cff9;\n",
       "            color:  #000000;\n",
       "        }#T_e6fa5ef4_a9c5_11eb_a903_16e2d80e0fdfrow7_col1{\n",
       "            background-color:  #a7c5fe;\n",
       "            color:  #000000;\n",
       "        }#T_e6fa5ef4_a9c5_11eb_a903_16e2d80e0fdfrow7_col4{\n",
       "            background-color:  #5470de;\n",
       "            color:  #000000;\n",
       "        }#T_e6fa5ef4_a9c5_11eb_a903_16e2d80e0fdfrow7_col6{\n",
       "            background-color:  #7396f5;\n",
       "            color:  #000000;\n",
       "        }#T_e6fa5ef4_a9c5_11eb_a903_16e2d80e0fdfrow7_col8,#T_e6fa5ef4_a9c5_11eb_a903_16e2d80e0fdfrow7_col10{\n",
       "            background-color:  #4e68d8;\n",
       "            color:  #000000;\n",
       "        }#T_e6fa5ef4_a9c5_11eb_a903_16e2d80e0fdfrow7_col11{\n",
       "            background-color:  #7295f4;\n",
       "            color:  #000000;\n",
       "        }#T_e6fa5ef4_a9c5_11eb_a903_16e2d80e0fdfrow8_col0,#T_e6fa5ef4_a9c5_11eb_a903_16e2d80e0fdfrow9_col3{\n",
       "            background-color:  #6687ed;\n",
       "            color:  #000000;\n",
       "        }#T_e6fa5ef4_a9c5_11eb_a903_16e2d80e0fdfrow8_col1{\n",
       "            background-color:  #8badfd;\n",
       "            color:  #000000;\n",
       "        }#T_e6fa5ef4_a9c5_11eb_a903_16e2d80e0fdfrow8_col10{\n",
       "            background-color:  #efcfbf;\n",
       "            color:  #000000;\n",
       "        }#T_e6fa5ef4_a9c5_11eb_a903_16e2d80e0fdfrow8_col11{\n",
       "            background-color:  #82a6fb;\n",
       "            color:  #000000;\n",
       "        }#T_e6fa5ef4_a9c5_11eb_a903_16e2d80e0fdfrow9_col0{\n",
       "            background-color:  #7093f3;\n",
       "            color:  #000000;\n",
       "        }#T_e6fa5ef4_a9c5_11eb_a903_16e2d80e0fdfrow9_col1{\n",
       "            background-color:  #8caffe;\n",
       "            color:  #000000;\n",
       "        }#T_e6fa5ef4_a9c5_11eb_a903_16e2d80e0fdfrow9_col6{\n",
       "            background-color:  #5a78e4;\n",
       "            color:  #000000;\n",
       "        }#T_e6fa5ef4_a9c5_11eb_a903_16e2d80e0fdfrow10_col0,#T_e6fa5ef4_a9c5_11eb_a903_16e2d80e0fdfrow11_col5{\n",
       "            background-color:  #6384eb;\n",
       "            color:  #000000;\n",
       "        }#T_e6fa5ef4_a9c5_11eb_a903_16e2d80e0fdfrow10_col1{\n",
       "            background-color:  #7597f6;\n",
       "            color:  #000000;\n",
       "        }#T_e6fa5ef4_a9c5_11eb_a903_16e2d80e0fdfrow10_col8{\n",
       "            background-color:  #edd1c2;\n",
       "            color:  #000000;\n",
       "        }#T_e6fa5ef4_a9c5_11eb_a903_16e2d80e0fdfrow10_col11{\n",
       "            background-color:  #90b2fe;\n",
       "            color:  #000000;\n",
       "        }#T_e6fa5ef4_a9c5_11eb_a903_16e2d80e0fdfrow11_col4{\n",
       "            background-color:  #85a8fc;\n",
       "            color:  #000000;\n",
       "        }#T_e6fa5ef4_a9c5_11eb_a903_16e2d80e0fdfrow11_col6{\n",
       "            background-color:  #98b9ff;\n",
       "            color:  #000000;\n",
       "        }</style><table id=\"T_e6fa5ef4_a9c5_11eb_a903_16e2d80e0fdf\" ><thead>    <tr>        <th class=\"blank level0\" ></th>        <th class=\"col_heading level0 col0\" >Gender</th>        <th class=\"col_heading level0 col1\" >Married</th>        <th class=\"col_heading level0 col2\" >Education</th>        <th class=\"col_heading level0 col3\" >Self_Employed</th>        <th class=\"col_heading level0 col4\" >ApplicantIncome</th>        <th class=\"col_heading level0 col5\" >CoapplicantIncome</th>        <th class=\"col_heading level0 col6\" >LoanAmount</th>        <th class=\"col_heading level0 col7\" >Loan_Amount_Term</th>        <th class=\"col_heading level0 col8\" >Credit_History</th>        <th class=\"col_heading level0 col9\" >Property_Area</th>        <th class=\"col_heading level0 col10\" >Loan_Status</th>        <th class=\"col_heading level0 col11\" >Dependents</th>    </tr></thead><tbody>\n",
       "                <tr>\n",
       "                        <th id=\"T_e6fa5ef4_a9c5_11eb_a903_16e2d80e0fdflevel0_row0\" class=\"row_heading level0 row0\" >Gender</th>\n",
       "                        <td id=\"T_e6fa5ef4_a9c5_11eb_a903_16e2d80e0fdfrow0_col0\" class=\"data row0 col0\" >1.00</td>\n",
       "                        <td id=\"T_e6fa5ef4_a9c5_11eb_a903_16e2d80e0fdfrow0_col1\" class=\"data row0 col1\" >0.36</td>\n",
       "                        <td id=\"T_e6fa5ef4_a9c5_11eb_a903_16e2d80e0fdfrow0_col2\" class=\"data row0 col2\" >-0.05</td>\n",
       "                        <td id=\"T_e6fa5ef4_a9c5_11eb_a903_16e2d80e0fdfrow0_col3\" class=\"data row0 col3\" >-0.00</td>\n",
       "                        <td id=\"T_e6fa5ef4_a9c5_11eb_a903_16e2d80e0fdfrow0_col4\" class=\"data row0 col4\" >-0.06</td>\n",
       "                        <td id=\"T_e6fa5ef4_a9c5_11eb_a903_16e2d80e0fdfrow0_col5\" class=\"data row0 col5\" >-0.08</td>\n",
       "                        <td id=\"T_e6fa5ef4_a9c5_11eb_a903_16e2d80e0fdfrow0_col6\" class=\"data row0 col6\" >-0.11</td>\n",
       "                        <td id=\"T_e6fa5ef4_a9c5_11eb_a903_16e2d80e0fdfrow0_col7\" class=\"data row0 col7\" >0.07</td>\n",
       "                        <td id=\"T_e6fa5ef4_a9c5_11eb_a903_16e2d80e0fdfrow0_col8\" class=\"data row0 col8\" >-0.01</td>\n",
       "                        <td id=\"T_e6fa5ef4_a9c5_11eb_a903_16e2d80e0fdfrow0_col9\" class=\"data row0 col9\" >0.03</td>\n",
       "                        <td id=\"T_e6fa5ef4_a9c5_11eb_a903_16e2d80e0fdfrow0_col10\" class=\"data row0 col10\" >-0.02</td>\n",
       "                        <td id=\"T_e6fa5ef4_a9c5_11eb_a903_16e2d80e0fdfrow0_col11\" class=\"data row0 col11\" >-0.17</td>\n",
       "            </tr>\n",
       "            <tr>\n",
       "                        <th id=\"T_e6fa5ef4_a9c5_11eb_a903_16e2d80e0fdflevel0_row1\" class=\"row_heading level0 row1\" >Married</th>\n",
       "                        <td id=\"T_e6fa5ef4_a9c5_11eb_a903_16e2d80e0fdfrow1_col0\" class=\"data row1 col0\" >0.36</td>\n",
       "                        <td id=\"T_e6fa5ef4_a9c5_11eb_a903_16e2d80e0fdfrow1_col1\" class=\"data row1 col1\" >1.00</td>\n",
       "                        <td id=\"T_e6fa5ef4_a9c5_11eb_a903_16e2d80e0fdfrow1_col2\" class=\"data row1 col2\" >-0.01</td>\n",
       "                        <td id=\"T_e6fa5ef4_a9c5_11eb_a903_16e2d80e0fdfrow1_col3\" class=\"data row1 col3\" >0.00</td>\n",
       "                        <td id=\"T_e6fa5ef4_a9c5_11eb_a903_16e2d80e0fdfrow1_col4\" class=\"data row1 col4\" >-0.05</td>\n",
       "                        <td id=\"T_e6fa5ef4_a9c5_11eb_a903_16e2d80e0fdfrow1_col5\" class=\"data row1 col5\" >-0.08</td>\n",
       "                        <td id=\"T_e6fa5ef4_a9c5_11eb_a903_16e2d80e0fdfrow1_col6\" class=\"data row1 col6\" >-0.15</td>\n",
       "                        <td id=\"T_e6fa5ef4_a9c5_11eb_a903_16e2d80e0fdfrow1_col7\" class=\"data row1 col7\" >0.10</td>\n",
       "                        <td id=\"T_e6fa5ef4_a9c5_11eb_a903_16e2d80e0fdfrow1_col8\" class=\"data row1 col8\" >-0.01</td>\n",
       "                        <td id=\"T_e6fa5ef4_a9c5_11eb_a903_16e2d80e0fdfrow1_col9\" class=\"data row1 col9\" >-0.00</td>\n",
       "                        <td id=\"T_e6fa5ef4_a9c5_11eb_a903_16e2d80e0fdfrow1_col10\" class=\"data row1 col10\" >-0.09</td>\n",
       "                        <td id=\"T_e6fa5ef4_a9c5_11eb_a903_16e2d80e0fdfrow1_col11\" class=\"data row1 col11\" >-0.33</td>\n",
       "            </tr>\n",
       "            <tr>\n",
       "                        <th id=\"T_e6fa5ef4_a9c5_11eb_a903_16e2d80e0fdflevel0_row2\" class=\"row_heading level0 row2\" >Education</th>\n",
       "                        <td id=\"T_e6fa5ef4_a9c5_11eb_a903_16e2d80e0fdfrow2_col0\" class=\"data row2 col0\" >-0.05</td>\n",
       "                        <td id=\"T_e6fa5ef4_a9c5_11eb_a903_16e2d80e0fdfrow2_col1\" class=\"data row2 col1\" >-0.01</td>\n",
       "                        <td id=\"T_e6fa5ef4_a9c5_11eb_a903_16e2d80e0fdfrow2_col2\" class=\"data row2 col2\" >1.00</td>\n",
       "                        <td id=\"T_e6fa5ef4_a9c5_11eb_a903_16e2d80e0fdfrow2_col3\" class=\"data row2 col3\" >0.01</td>\n",
       "                        <td id=\"T_e6fa5ef4_a9c5_11eb_a903_16e2d80e0fdfrow2_col4\" class=\"data row2 col4\" >-0.14</td>\n",
       "                        <td id=\"T_e6fa5ef4_a9c5_11eb_a903_16e2d80e0fdfrow2_col5\" class=\"data row2 col5\" >-0.06</td>\n",
       "                        <td id=\"T_e6fa5ef4_a9c5_11eb_a903_16e2d80e0fdfrow2_col6\" class=\"data row2 col6\" >-0.17</td>\n",
       "                        <td id=\"T_e6fa5ef4_a9c5_11eb_a903_16e2d80e0fdfrow2_col7\" class=\"data row2 col7\" >-0.07</td>\n",
       "                        <td id=\"T_e6fa5ef4_a9c5_11eb_a903_16e2d80e0fdfrow2_col8\" class=\"data row2 col8\" >-0.07</td>\n",
       "                        <td id=\"T_e6fa5ef4_a9c5_11eb_a903_16e2d80e0fdfrow2_col9\" class=\"data row2 col9\" >-0.07</td>\n",
       "                        <td id=\"T_e6fa5ef4_a9c5_11eb_a903_16e2d80e0fdfrow2_col10\" class=\"data row2 col10\" >-0.09</td>\n",
       "                        <td id=\"T_e6fa5ef4_a9c5_11eb_a903_16e2d80e0fdfrow2_col11\" class=\"data row2 col11\" >0.06</td>\n",
       "            </tr>\n",
       "            <tr>\n",
       "                        <th id=\"T_e6fa5ef4_a9c5_11eb_a903_16e2d80e0fdflevel0_row3\" class=\"row_heading level0 row3\" >Self_Employed</th>\n",
       "                        <td id=\"T_e6fa5ef4_a9c5_11eb_a903_16e2d80e0fdfrow3_col0\" class=\"data row3 col0\" >-0.00</td>\n",
       "                        <td id=\"T_e6fa5ef4_a9c5_11eb_a903_16e2d80e0fdfrow3_col1\" class=\"data row3 col1\" >0.00</td>\n",
       "                        <td id=\"T_e6fa5ef4_a9c5_11eb_a903_16e2d80e0fdfrow3_col2\" class=\"data row3 col2\" >0.01</td>\n",
       "                        <td id=\"T_e6fa5ef4_a9c5_11eb_a903_16e2d80e0fdfrow3_col3\" class=\"data row3 col3\" >1.00</td>\n",
       "                        <td id=\"T_e6fa5ef4_a9c5_11eb_a903_16e2d80e0fdfrow3_col4\" class=\"data row3 col4\" >-0.13</td>\n",
       "                        <td id=\"T_e6fa5ef4_a9c5_11eb_a903_16e2d80e0fdfrow3_col5\" class=\"data row3 col5\" >0.02</td>\n",
       "                        <td id=\"T_e6fa5ef4_a9c5_11eb_a903_16e2d80e0fdfrow3_col6\" class=\"data row3 col6\" >-0.11</td>\n",
       "                        <td id=\"T_e6fa5ef4_a9c5_11eb_a903_16e2d80e0fdfrow3_col7\" class=\"data row3 col7\" >0.03</td>\n",
       "                        <td id=\"T_e6fa5ef4_a9c5_11eb_a903_16e2d80e0fdfrow3_col8\" class=\"data row3 col8\" >0.00</td>\n",
       "                        <td id=\"T_e6fa5ef4_a9c5_11eb_a903_16e2d80e0fdfrow3_col9\" class=\"data row3 col9\" >0.03</td>\n",
       "                        <td id=\"T_e6fa5ef4_a9c5_11eb_a903_16e2d80e0fdfrow3_col10\" class=\"data row3 col10\" >0.00</td>\n",
       "                        <td id=\"T_e6fa5ef4_a9c5_11eb_a903_16e2d80e0fdfrow3_col11\" class=\"data row3 col11\" >-0.06</td>\n",
       "            </tr>\n",
       "            <tr>\n",
       "                        <th id=\"T_e6fa5ef4_a9c5_11eb_a903_16e2d80e0fdflevel0_row4\" class=\"row_heading level0 row4\" >ApplicantIncome</th>\n",
       "                        <td id=\"T_e6fa5ef4_a9c5_11eb_a903_16e2d80e0fdfrow4_col0\" class=\"data row4 col0\" >-0.06</td>\n",
       "                        <td id=\"T_e6fa5ef4_a9c5_11eb_a903_16e2d80e0fdfrow4_col1\" class=\"data row4 col1\" >-0.05</td>\n",
       "                        <td id=\"T_e6fa5ef4_a9c5_11eb_a903_16e2d80e0fdfrow4_col2\" class=\"data row4 col2\" >-0.14</td>\n",
       "                        <td id=\"T_e6fa5ef4_a9c5_11eb_a903_16e2d80e0fdfrow4_col3\" class=\"data row4 col3\" >-0.13</td>\n",
       "                        <td id=\"T_e6fa5ef4_a9c5_11eb_a903_16e2d80e0fdfrow4_col4\" class=\"data row4 col4\" >1.00</td>\n",
       "                        <td id=\"T_e6fa5ef4_a9c5_11eb_a903_16e2d80e0fdfrow4_col5\" class=\"data row4 col5\" >-0.12</td>\n",
       "                        <td id=\"T_e6fa5ef4_a9c5_11eb_a903_16e2d80e0fdfrow4_col6\" class=\"data row4 col6\" >0.56</td>\n",
       "                        <td id=\"T_e6fa5ef4_a9c5_11eb_a903_16e2d80e0fdfrow4_col7\" class=\"data row4 col7\" >-0.05</td>\n",
       "                        <td id=\"T_e6fa5ef4_a9c5_11eb_a903_16e2d80e0fdfrow4_col8\" class=\"data row4 col8\" >-0.02</td>\n",
       "                        <td id=\"T_e6fa5ef4_a9c5_11eb_a903_16e2d80e0fdfrow4_col9\" class=\"data row4 col9\" >-0.01</td>\n",
       "                        <td id=\"T_e6fa5ef4_a9c5_11eb_a903_16e2d80e0fdfrow4_col10\" class=\"data row4 col10\" >-0.00</td>\n",
       "                        <td id=\"T_e6fa5ef4_a9c5_11eb_a903_16e2d80e0fdfrow4_col11\" class=\"data row4 col11\" >0.12</td>\n",
       "            </tr>\n",
       "            <tr>\n",
       "                        <th id=\"T_e6fa5ef4_a9c5_11eb_a903_16e2d80e0fdflevel0_row5\" class=\"row_heading level0 row5\" >CoapplicantIncome</th>\n",
       "                        <td id=\"T_e6fa5ef4_a9c5_11eb_a903_16e2d80e0fdfrow5_col0\" class=\"data row5 col0\" >-0.08</td>\n",
       "                        <td id=\"T_e6fa5ef4_a9c5_11eb_a903_16e2d80e0fdfrow5_col1\" class=\"data row5 col1\" >-0.08</td>\n",
       "                        <td id=\"T_e6fa5ef4_a9c5_11eb_a903_16e2d80e0fdfrow5_col2\" class=\"data row5 col2\" >-0.06</td>\n",
       "                        <td id=\"T_e6fa5ef4_a9c5_11eb_a903_16e2d80e0fdfrow5_col3\" class=\"data row5 col3\" >0.02</td>\n",
       "                        <td id=\"T_e6fa5ef4_a9c5_11eb_a903_16e2d80e0fdfrow5_col4\" class=\"data row5 col4\" >-0.12</td>\n",
       "                        <td id=\"T_e6fa5ef4_a9c5_11eb_a903_16e2d80e0fdfrow5_col5\" class=\"data row5 col5\" >1.00</td>\n",
       "                        <td id=\"T_e6fa5ef4_a9c5_11eb_a903_16e2d80e0fdfrow5_col6\" class=\"data row5 col6\" >0.19</td>\n",
       "                        <td id=\"T_e6fa5ef4_a9c5_11eb_a903_16e2d80e0fdfrow5_col7\" class=\"data row5 col7\" >-0.06</td>\n",
       "                        <td id=\"T_e6fa5ef4_a9c5_11eb_a903_16e2d80e0fdfrow5_col8\" class=\"data row5 col8\" >0.01</td>\n",
       "                        <td id=\"T_e6fa5ef4_a9c5_11eb_a903_16e2d80e0fdfrow5_col9\" class=\"data row5 col9\" >0.01</td>\n",
       "                        <td id=\"T_e6fa5ef4_a9c5_11eb_a903_16e2d80e0fdfrow5_col10\" class=\"data row5 col10\" >-0.06</td>\n",
       "                        <td id=\"T_e6fa5ef4_a9c5_11eb_a903_16e2d80e0fdfrow5_col11\" class=\"data row5 col11\" >0.03</td>\n",
       "            </tr>\n",
       "            <tr>\n",
       "                        <th id=\"T_e6fa5ef4_a9c5_11eb_a903_16e2d80e0fdflevel0_row6\" class=\"row_heading level0 row6\" >LoanAmount</th>\n",
       "                        <td id=\"T_e6fa5ef4_a9c5_11eb_a903_16e2d80e0fdfrow6_col0\" class=\"data row6 col0\" >-0.11</td>\n",
       "                        <td id=\"T_e6fa5ef4_a9c5_11eb_a903_16e2d80e0fdfrow6_col1\" class=\"data row6 col1\" >-0.15</td>\n",
       "                        <td id=\"T_e6fa5ef4_a9c5_11eb_a903_16e2d80e0fdfrow6_col2\" class=\"data row6 col2\" >-0.17</td>\n",
       "                        <td id=\"T_e6fa5ef4_a9c5_11eb_a903_16e2d80e0fdfrow6_col3\" class=\"data row6 col3\" >-0.11</td>\n",
       "                        <td id=\"T_e6fa5ef4_a9c5_11eb_a903_16e2d80e0fdfrow6_col4\" class=\"data row6 col4\" >0.56</td>\n",
       "                        <td id=\"T_e6fa5ef4_a9c5_11eb_a903_16e2d80e0fdfrow6_col5\" class=\"data row6 col5\" >0.19</td>\n",
       "                        <td id=\"T_e6fa5ef4_a9c5_11eb_a903_16e2d80e0fdfrow6_col6\" class=\"data row6 col6\" >1.00</td>\n",
       "                        <td id=\"T_e6fa5ef4_a9c5_11eb_a903_16e2d80e0fdfrow6_col7\" class=\"data row6 col7\" >0.04</td>\n",
       "                        <td id=\"T_e6fa5ef4_a9c5_11eb_a903_16e2d80e0fdfrow6_col8\" class=\"data row6 col8\" >-0.00</td>\n",
       "                        <td id=\"T_e6fa5ef4_a9c5_11eb_a903_16e2d80e0fdfrow6_col9\" class=\"data row6 col9\" >-0.05</td>\n",
       "                        <td id=\"T_e6fa5ef4_a9c5_11eb_a903_16e2d80e0fdfrow6_col10\" class=\"data row6 col10\" >-0.03</td>\n",
       "                        <td id=\"T_e6fa5ef4_a9c5_11eb_a903_16e2d80e0fdfrow6_col11\" class=\"data row6 col11\" >0.16</td>\n",
       "            </tr>\n",
       "            <tr>\n",
       "                        <th id=\"T_e6fa5ef4_a9c5_11eb_a903_16e2d80e0fdflevel0_row7\" class=\"row_heading level0 row7\" >Loan_Amount_Term</th>\n",
       "                        <td id=\"T_e6fa5ef4_a9c5_11eb_a903_16e2d80e0fdfrow7_col0\" class=\"data row7 col0\" >0.07</td>\n",
       "                        <td id=\"T_e6fa5ef4_a9c5_11eb_a903_16e2d80e0fdfrow7_col1\" class=\"data row7 col1\" >0.10</td>\n",
       "                        <td id=\"T_e6fa5ef4_a9c5_11eb_a903_16e2d80e0fdfrow7_col2\" class=\"data row7 col2\" >-0.07</td>\n",
       "                        <td id=\"T_e6fa5ef4_a9c5_11eb_a903_16e2d80e0fdfrow7_col3\" class=\"data row7 col3\" >0.03</td>\n",
       "                        <td id=\"T_e6fa5ef4_a9c5_11eb_a903_16e2d80e0fdfrow7_col4\" class=\"data row7 col4\" >-0.05</td>\n",
       "                        <td id=\"T_e6fa5ef4_a9c5_11eb_a903_16e2d80e0fdfrow7_col5\" class=\"data row7 col5\" >-0.06</td>\n",
       "                        <td id=\"T_e6fa5ef4_a9c5_11eb_a903_16e2d80e0fdfrow7_col6\" class=\"data row7 col6\" >0.04</td>\n",
       "                        <td id=\"T_e6fa5ef4_a9c5_11eb_a903_16e2d80e0fdfrow7_col7\" class=\"data row7 col7\" >1.00</td>\n",
       "                        <td id=\"T_e6fa5ef4_a9c5_11eb_a903_16e2d80e0fdfrow7_col8\" class=\"data row7 col8\" >-0.00</td>\n",
       "                        <td id=\"T_e6fa5ef4_a9c5_11eb_a903_16e2d80e0fdfrow7_col9\" class=\"data row7 col9\" >-0.08</td>\n",
       "                        <td id=\"T_e6fa5ef4_a9c5_11eb_a903_16e2d80e0fdfrow7_col10\" class=\"data row7 col10\" >-0.02</td>\n",
       "                        <td id=\"T_e6fa5ef4_a9c5_11eb_a903_16e2d80e0fdfrow7_col11\" class=\"data row7 col11\" >-0.10</td>\n",
       "            </tr>\n",
       "            <tr>\n",
       "                        <th id=\"T_e6fa5ef4_a9c5_11eb_a903_16e2d80e0fdflevel0_row8\" class=\"row_heading level0 row8\" >Credit_History</th>\n",
       "                        <td id=\"T_e6fa5ef4_a9c5_11eb_a903_16e2d80e0fdfrow8_col0\" class=\"data row8 col0\" >-0.01</td>\n",
       "                        <td id=\"T_e6fa5ef4_a9c5_11eb_a903_16e2d80e0fdfrow8_col1\" class=\"data row8 col1\" >-0.01</td>\n",
       "                        <td id=\"T_e6fa5ef4_a9c5_11eb_a903_16e2d80e0fdfrow8_col2\" class=\"data row8 col2\" >-0.07</td>\n",
       "                        <td id=\"T_e6fa5ef4_a9c5_11eb_a903_16e2d80e0fdfrow8_col3\" class=\"data row8 col3\" >0.00</td>\n",
       "                        <td id=\"T_e6fa5ef4_a9c5_11eb_a903_16e2d80e0fdfrow8_col4\" class=\"data row8 col4\" >-0.02</td>\n",
       "                        <td id=\"T_e6fa5ef4_a9c5_11eb_a903_16e2d80e0fdfrow8_col5\" class=\"data row8 col5\" >0.01</td>\n",
       "                        <td id=\"T_e6fa5ef4_a9c5_11eb_a903_16e2d80e0fdfrow8_col6\" class=\"data row8 col6\" >-0.00</td>\n",
       "                        <td id=\"T_e6fa5ef4_a9c5_11eb_a903_16e2d80e0fdfrow8_col7\" class=\"data row8 col7\" >-0.00</td>\n",
       "                        <td id=\"T_e6fa5ef4_a9c5_11eb_a903_16e2d80e0fdfrow8_col8\" class=\"data row8 col8\" >1.00</td>\n",
       "                        <td id=\"T_e6fa5ef4_a9c5_11eb_a903_16e2d80e0fdfrow8_col9\" class=\"data row8 col9\" >0.00</td>\n",
       "                        <td id=\"T_e6fa5ef4_a9c5_11eb_a903_16e2d80e0fdfrow8_col10\" class=\"data row8 col10\" >0.54</td>\n",
       "                        <td id=\"T_e6fa5ef4_a9c5_11eb_a903_16e2d80e0fdfrow8_col11\" class=\"data row8 col11\" >-0.04</td>\n",
       "            </tr>\n",
       "            <tr>\n",
       "                        <th id=\"T_e6fa5ef4_a9c5_11eb_a903_16e2d80e0fdflevel0_row9\" class=\"row_heading level0 row9\" >Property_Area</th>\n",
       "                        <td id=\"T_e6fa5ef4_a9c5_11eb_a903_16e2d80e0fdfrow9_col0\" class=\"data row9 col0\" >0.03</td>\n",
       "                        <td id=\"T_e6fa5ef4_a9c5_11eb_a903_16e2d80e0fdfrow9_col1\" class=\"data row9 col1\" >-0.00</td>\n",
       "                        <td id=\"T_e6fa5ef4_a9c5_11eb_a903_16e2d80e0fdfrow9_col2\" class=\"data row9 col2\" >-0.07</td>\n",
       "                        <td id=\"T_e6fa5ef4_a9c5_11eb_a903_16e2d80e0fdfrow9_col3\" class=\"data row9 col3\" >0.03</td>\n",
       "                        <td id=\"T_e6fa5ef4_a9c5_11eb_a903_16e2d80e0fdfrow9_col4\" class=\"data row9 col4\" >-0.01</td>\n",
       "                        <td id=\"T_e6fa5ef4_a9c5_11eb_a903_16e2d80e0fdfrow9_col5\" class=\"data row9 col5\" >0.01</td>\n",
       "                        <td id=\"T_e6fa5ef4_a9c5_11eb_a903_16e2d80e0fdfrow9_col6\" class=\"data row9 col6\" >-0.05</td>\n",
       "                        <td id=\"T_e6fa5ef4_a9c5_11eb_a903_16e2d80e0fdfrow9_col7\" class=\"data row9 col7\" >-0.08</td>\n",
       "                        <td id=\"T_e6fa5ef4_a9c5_11eb_a903_16e2d80e0fdfrow9_col8\" class=\"data row9 col8\" >0.00</td>\n",
       "                        <td id=\"T_e6fa5ef4_a9c5_11eb_a903_16e2d80e0fdfrow9_col9\" class=\"data row9 col9\" >1.00</td>\n",
       "                        <td id=\"T_e6fa5ef4_a9c5_11eb_a903_16e2d80e0fdfrow9_col10\" class=\"data row9 col10\" >0.03</td>\n",
       "                        <td id=\"T_e6fa5ef4_a9c5_11eb_a903_16e2d80e0fdfrow9_col11\" class=\"data row9 col11\" >-0.00</td>\n",
       "            </tr>\n",
       "            <tr>\n",
       "                        <th id=\"T_e6fa5ef4_a9c5_11eb_a903_16e2d80e0fdflevel0_row10\" class=\"row_heading level0 row10\" >Loan_Status</th>\n",
       "                        <td id=\"T_e6fa5ef4_a9c5_11eb_a903_16e2d80e0fdfrow10_col0\" class=\"data row10 col0\" >-0.02</td>\n",
       "                        <td id=\"T_e6fa5ef4_a9c5_11eb_a903_16e2d80e0fdfrow10_col1\" class=\"data row10 col1\" >-0.09</td>\n",
       "                        <td id=\"T_e6fa5ef4_a9c5_11eb_a903_16e2d80e0fdfrow10_col2\" class=\"data row10 col2\" >-0.09</td>\n",
       "                        <td id=\"T_e6fa5ef4_a9c5_11eb_a903_16e2d80e0fdfrow10_col3\" class=\"data row10 col3\" >0.00</td>\n",
       "                        <td id=\"T_e6fa5ef4_a9c5_11eb_a903_16e2d80e0fdfrow10_col4\" class=\"data row10 col4\" >-0.00</td>\n",
       "                        <td id=\"T_e6fa5ef4_a9c5_11eb_a903_16e2d80e0fdfrow10_col5\" class=\"data row10 col5\" >-0.06</td>\n",
       "                        <td id=\"T_e6fa5ef4_a9c5_11eb_a903_16e2d80e0fdfrow10_col6\" class=\"data row10 col6\" >-0.03</td>\n",
       "                        <td id=\"T_e6fa5ef4_a9c5_11eb_a903_16e2d80e0fdfrow10_col7\" class=\"data row10 col7\" >-0.02</td>\n",
       "                        <td id=\"T_e6fa5ef4_a9c5_11eb_a903_16e2d80e0fdfrow10_col8\" class=\"data row10 col8\" >0.54</td>\n",
       "                        <td id=\"T_e6fa5ef4_a9c5_11eb_a903_16e2d80e0fdfrow10_col9\" class=\"data row10 col9\" >0.03</td>\n",
       "                        <td id=\"T_e6fa5ef4_a9c5_11eb_a903_16e2d80e0fdfrow10_col10\" class=\"data row10 col10\" >1.00</td>\n",
       "                        <td id=\"T_e6fa5ef4_a9c5_11eb_a903_16e2d80e0fdfrow10_col11\" class=\"data row10 col11\" >0.01</td>\n",
       "            </tr>\n",
       "            <tr>\n",
       "                        <th id=\"T_e6fa5ef4_a9c5_11eb_a903_16e2d80e0fdflevel0_row11\" class=\"row_heading level0 row11\" >Dependents</th>\n",
       "                        <td id=\"T_e6fa5ef4_a9c5_11eb_a903_16e2d80e0fdfrow11_col0\" class=\"data row11 col0\" >-0.17</td>\n",
       "                        <td id=\"T_e6fa5ef4_a9c5_11eb_a903_16e2d80e0fdfrow11_col1\" class=\"data row11 col1\" >-0.33</td>\n",
       "                        <td id=\"T_e6fa5ef4_a9c5_11eb_a903_16e2d80e0fdfrow11_col2\" class=\"data row11 col2\" >0.06</td>\n",
       "                        <td id=\"T_e6fa5ef4_a9c5_11eb_a903_16e2d80e0fdfrow11_col3\" class=\"data row11 col3\" >-0.06</td>\n",
       "                        <td id=\"T_e6fa5ef4_a9c5_11eb_a903_16e2d80e0fdfrow11_col4\" class=\"data row11 col4\" >0.12</td>\n",
       "                        <td id=\"T_e6fa5ef4_a9c5_11eb_a903_16e2d80e0fdfrow11_col5\" class=\"data row11 col5\" >0.03</td>\n",
       "                        <td id=\"T_e6fa5ef4_a9c5_11eb_a903_16e2d80e0fdfrow11_col6\" class=\"data row11 col6\" >0.16</td>\n",
       "                        <td id=\"T_e6fa5ef4_a9c5_11eb_a903_16e2d80e0fdfrow11_col7\" class=\"data row11 col7\" >-0.10</td>\n",
       "                        <td id=\"T_e6fa5ef4_a9c5_11eb_a903_16e2d80e0fdfrow11_col8\" class=\"data row11 col8\" >-0.04</td>\n",
       "                        <td id=\"T_e6fa5ef4_a9c5_11eb_a903_16e2d80e0fdfrow11_col9\" class=\"data row11 col9\" >-0.00</td>\n",
       "                        <td id=\"T_e6fa5ef4_a9c5_11eb_a903_16e2d80e0fdfrow11_col10\" class=\"data row11 col10\" >0.01</td>\n",
       "                        <td id=\"T_e6fa5ef4_a9c5_11eb_a903_16e2d80e0fdfrow11_col11\" class=\"data row11 col11\" >1.00</td>\n",
       "            </tr>\n",
       "    </tbody></table>"
      ],
      "text/plain": [
       "<pandas.io.formats.style.Styler at 0x7f7462582240>"
      ]
     },
     "execution_count": 34,
     "metadata": {},
     "output_type": "execute_result"
    }
   ],
   "source": [
    "corr = tr_df.corr()\n",
    "corr.style.background_gradient(cmap='coolwarm').set_precision(2)\n"
   ]
  },
  {
   "cell_type": "code",
   "execution_count": 35,
   "metadata": {},
   "outputs": [],
   "source": [
    "y = tr_df['Loan_Status']\n",
    "X = tr_df.drop('Loan_Status', axis = 1)\n",
    "X_train, X_test, y_train, y_test = train_test_split(X, y, test_size = 0.3, random_state = 0)"
   ]
  },
  {
   "cell_type": "code",
   "execution_count": 36,
   "metadata": {},
   "outputs": [],
   "source": [
    "DT = DecisionTreeClassifier()\n",
    "DT.fit(X_train, y_train)\n",
    "\n",
    "y_predict = DT.predict(X_test)\n"
   ]
  },
  {
   "cell_type": "code",
   "execution_count": 37,
   "metadata": {},
   "outputs": [
    {
     "name": "stdout",
     "output_type": "stream",
     "text": [
      "              precision    recall  f1-score   support\n",
      "\n",
      "           0       0.44      0.55      0.49        51\n",
      "           1       0.81      0.74      0.77       134\n",
      "\n",
      "    accuracy                           0.69       185\n",
      "   macro avg       0.63      0.64      0.63       185\n",
      "weighted avg       0.71      0.69      0.70       185\n",
      "\n"
     ]
    }
   ],
   "source": [
    "print(classification_report(y_test, y_predict))\n"
   ]
  },
  {
   "cell_type": "code",
   "execution_count": 38,
   "metadata": {},
   "outputs": [
    {
     "name": "stdout",
     "output_type": "stream",
     "text": [
      "68.65% Accurate\n"
     ]
    }
   ],
   "source": [
    "DT_SC = accuracy_score(y_predict,y_test)\n",
    "print(f\"{round(DT_SC*100,2)}% Accurate\")"
   ]
  },
  {
   "cell_type": "code",
   "execution_count": 39,
   "metadata": {},
   "outputs": [],
   "source": [
    "DT = DecisionTreeClassifier()\n",
    "DT.fit(X_train, y_train)\n",
    "\n",
    "y_predict = DT.predict(X_test)"
   ]
  },
  {
   "cell_type": "code",
   "execution_count": 40,
   "metadata": {},
   "outputs": [
    {
     "name": "stdout",
     "output_type": "stream",
     "text": [
      "              precision    recall  f1-score   support\n",
      "\n",
      "           0       0.44      0.53      0.48        51\n",
      "           1       0.81      0.75      0.78       134\n",
      "\n",
      "    accuracy                           0.69       185\n",
      "   macro avg       0.62      0.64      0.63       185\n",
      "weighted avg       0.71      0.69      0.69       185\n",
      "\n"
     ]
    }
   ],
   "source": [
    "print(classification_report(y_test, y_predict))"
   ]
  },
  {
   "cell_type": "code",
   "execution_count": 41,
   "metadata": {},
   "outputs": [
    {
     "name": "stdout",
     "output_type": "stream",
     "text": [
      "68.65% Accurate\n"
     ]
    }
   ],
   "source": [
    "DT_SC = accuracy_score(y_predict,y_test)\n",
    "print(f\"{round(DT_SC*100,2)}% Accurate\")\n"
   ]
  },
  {
   "cell_type": "code",
   "execution_count": 42,
   "metadata": {},
   "outputs": [
    {
     "data": {
      "text/plain": [
       "DecisionTreeClassifier()"
      ]
     },
     "execution_count": 42,
     "metadata": {},
     "output_type": "execute_result"
    }
   ],
   "source": [
    "from sklearn.tree import DecisionTreeClassifier\n",
    "DT = DecisionTreeClassifier()\n",
    "DT.fit(X_train, y_train)\n"
   ]
  },
  {
   "cell_type": "code",
   "execution_count": 43,
   "metadata": {},
   "outputs": [],
   "source": [
    "y_predict = DT.predict(X_test)\n"
   ]
  },
  {
   "cell_type": "code",
   "execution_count": 44,
   "metadata": {},
   "outputs": [
    {
     "name": "stdout",
     "output_type": "stream",
     "text": [
      "              precision    recall  f1-score   support\n",
      "\n",
      "           0       0.47      0.53      0.50        51\n",
      "           1       0.81      0.77      0.79       134\n",
      "\n",
      "    accuracy                           0.70       185\n",
      "   macro avg       0.64      0.65      0.64       185\n",
      "weighted avg       0.72      0.70      0.71       185\n",
      "\n"
     ]
    }
   ],
   "source": [
    "print(classification_report(y_test, y_predict))\n"
   ]
  },
  {
   "cell_type": "code",
   "execution_count": 45,
   "metadata": {},
   "outputs": [
    {
     "name": "stdout",
     "output_type": "stream",
     "text": [
      "70.27% Accurate\n"
     ]
    }
   ],
   "source": [
    "DT_SC = accuracy_score(y_predict,y_test)\n",
    "print(f\"{round(DT_SC*100,2)}% Accurate\")"
   ]
  },
  {
   "cell_type": "code",
   "execution_count": 46,
   "metadata": {},
   "outputs": [],
   "source": [
    "Decision_Tree=pd.DataFrame({'y_test':y_test,'prediction':y_predict})\n",
    "Decision_Tree.to_csv(\"Dection Tree.csv\")  \n"
   ]
  },
  {
   "cell_type": "code",
   "execution_count": 47,
   "metadata": {},
   "outputs": [],
   "source": [
    "from sklearn.ensemble import RandomForestClassifier\n",
    "\n",
    "\n",
    "\n",
    "RF = RandomForestClassifier()\n",
    "RF.fit(X_train, y_train)\n",
    "\n",
    "y_predict = RF.predict(X_test)"
   ]
  },
  {
   "cell_type": "code",
   "execution_count": 48,
   "metadata": {},
   "outputs": [
    {
     "name": "stdout",
     "output_type": "stream",
     "text": [
      "              precision    recall  f1-score   support\n",
      "\n",
      "           0       0.71      0.43      0.54        51\n",
      "           1       0.81      0.93      0.87       134\n",
      "\n",
      "    accuracy                           0.79       185\n",
      "   macro avg       0.76      0.68      0.70       185\n",
      "weighted avg       0.78      0.79      0.78       185\n",
      "\n"
     ]
    }
   ],
   "source": [
    "print(classification_report(y_test, y_predict))"
   ]
  },
  {
   "cell_type": "code",
   "execution_count": 49,
   "metadata": {},
   "outputs": [
    {
     "name": "stdout",
     "output_type": "stream",
     "text": [
      "79.46% Accurate\n"
     ]
    }
   ],
   "source": [
    "RF_SC = accuracy_score(y_predict,y_test)\n",
    "print(f\"{round(RF_SC*100,2)}% Accurate\")\n"
   ]
  },
  {
   "cell_type": "code",
   "execution_count": 50,
   "metadata": {},
   "outputs": [],
   "source": [
    "Random_Forest=pd.DataFrame({'y_test':y_test,'prediction':y_predict})\n",
    "Random_Forest.to_csv(\"Random Forest.csv\")   "
   ]
  },
  {
   "cell_type": "code",
   "execution_count": 51,
   "metadata": {},
   "outputs": [],
   "source": [
    "from sklearn.linear_model import LogisticRegression\n",
    "LR = LogisticRegression()\n",
    "LR.fit(X_train, y_train)\n",
    "\n",
    "y_predict = LR.predict(X_test)"
   ]
  },
  {
   "cell_type": "code",
   "execution_count": 52,
   "metadata": {},
   "outputs": [
    {
     "name": "stdout",
     "output_type": "stream",
     "text": [
      "              precision    recall  f1-score   support\n",
      "\n",
      "           0       0.92      0.43      0.59        51\n",
      "           1       0.82      0.99      0.89       134\n",
      "\n",
      "    accuracy                           0.83       185\n",
      "   macro avg       0.87      0.71      0.74       185\n",
      "weighted avg       0.85      0.83      0.81       185\n",
      "\n"
     ]
    }
   ],
   "source": [
    "print(classification_report(y_test, y_predict))"
   ]
  },
  {
   "cell_type": "code",
   "execution_count": 53,
   "metadata": {},
   "outputs": [
    {
     "name": "stdout",
     "output_type": "stream",
     "text": [
      "accuracy is 0.8324324324324325\n"
     ]
    }
   ],
   "source": [
    "LR_SC = accuracy_score(y_predict,y_test)\n",
    "print('accuracy is',accuracy_score(y_predict,y_test))\n"
   ]
  },
  {
   "cell_type": "code",
   "execution_count": 54,
   "metadata": {},
   "outputs": [
    {
     "data": {
      "text/html": [
       "<div>\n",
       "<style scoped>\n",
       "    .dataframe tbody tr th:only-of-type {\n",
       "        vertical-align: middle;\n",
       "    }\n",
       "\n",
       "    .dataframe tbody tr th {\n",
       "        vertical-align: top;\n",
       "    }\n",
       "\n",
       "    .dataframe thead th {\n",
       "        text-align: right;\n",
       "    }\n",
       "</style>\n",
       "<table border=\"1\" class=\"dataframe\">\n",
       "  <thead>\n",
       "    <tr style=\"text-align: right;\">\n",
       "      <th></th>\n",
       "      <th>n_neighbors</th>\n",
       "      <th>Score</th>\n",
       "    </tr>\n",
       "  </thead>\n",
       "  <tbody>\n",
       "    <tr>\n",
       "      <th>2</th>\n",
       "      <td>Logistic Regression</td>\n",
       "      <td>0.832432</td>\n",
       "    </tr>\n",
       "    <tr>\n",
       "      <th>1</th>\n",
       "      <td>Random Forest</td>\n",
       "      <td>0.794595</td>\n",
       "    </tr>\n",
       "    <tr>\n",
       "      <th>0</th>\n",
       "      <td>Decision Tree</td>\n",
       "      <td>0.702703</td>\n",
       "    </tr>\n",
       "  </tbody>\n",
       "</table>\n",
       "</div>"
      ],
      "text/plain": [
       "           n_neighbors     Score\n",
       "2  Logistic Regression  0.832432\n",
       "1        Random Forest  0.794595\n",
       "0        Decision Tree  0.702703"
      ]
     },
     "execution_count": 54,
     "metadata": {},
     "output_type": "execute_result"
    }
   ],
   "source": [
    "score = [DT_SC,RF_SC,LR_SC]\n",
    "Models = pd.DataFrame({\n",
    "    'n_neighbors': [\"Decision Tree\",\"Random Forest\", \"Logistic Regression\"],\n",
    "    'Score': score})\n",
    "Models.sort_values(by='Score', ascending=False)"
   ]
  },
  {
   "cell_type": "code",
   "execution_count": 55,
   "metadata": {},
   "outputs": [],
   "source": [
    "# saving the model \n",
    "import pickle \n",
    "pickle_out = open(\"classifier.pkl\", mode = \"wb\") \n",
    "pickle.dump(Models, pickle_out) \n",
    "pickle_out.close()"
   ]
  },
  {
   "cell_type": "code",
   "execution_count": null,
   "metadata": {},
   "outputs": [],
   "source": []
  }
 ],
 "metadata": {
  "kernelspec": {
   "display_name": "conda_python3",
   "language": "python",
   "name": "conda_python3"
  },
  "language_info": {
   "codemirror_mode": {
    "name": "ipython",
    "version": 3
   },
   "file_extension": ".py",
   "mimetype": "text/x-python",
   "name": "python",
   "nbconvert_exporter": "python",
   "pygments_lexer": "ipython3",
   "version": "3.6.13"
  }
 },
 "nbformat": 4,
 "nbformat_minor": 4
}
